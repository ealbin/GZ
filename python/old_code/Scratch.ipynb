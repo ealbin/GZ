{
 "cells": [
  {
   "cell_type": "code",
   "execution_count": 34,
   "metadata": {},
   "outputs": [],
   "source": [
    "import Constants\n",
    "import Dynamics\n",
    "import Bfield\n",
    "\n",
    "import time\n",
    "import numpy as np\n",
    "import matplotlib.pyplot as plt\n",
    "%matplotlib inline"
   ]
  },
  {
   "cell_type": "code",
   "execution_count": 264,
   "metadata": {},
   "outputs": [
    {
     "name": "stdout",
     "output_type": "stream",
     "text": [
      "1.0 2.0 3.0 4.0 5.0 6.0 7.0 8.0 9.0 10.0 11.0 12.0 13.0 14.0 15.0 16.0 17.0 18.0 19.0 20.0 21.0 22.0 23.0 24.0 25.0 26.0 27.0 28.0 29.0 30.0 31.0 32.0 33.0 34.0 35.0 36.0 37.0 38.0 39.0 40.0 41.0 42.0 43.0 44.0 45.0 46.0 47.0 48.0 49.0 50.0 51.0 52.0 53.0 54.0 55.0 56.0 57.0 58.0 59.0 60.0 61.0 62.0 63.0 64.0 65.0 66.0 67.0 68.0 69.0 70.0 71.0 72.0 73.0 74.0 75.0 76.0 77.0 78.0 79.0 80.0 81.0 82.0 83.0 84.0 85.0 86.0 87.0 88.0 89.0 90.0 91.0 92.0 93.0 94.0 95.0 96.0 97.0 98.0 99.0 100.0 "
     ]
    }
   ],
   "source": [
    "Bstrength = Constants.Gauss2Tesla(.1e-6) # 2423.628e-6\n",
    "\n",
    "B = np.asarray([0,0,Bstrength])\n",
    "m_per_AU = Constants.AU2meters(1.) # meters in 1 AU\n",
    "c = Constants.lightspeed_m_per_s() # speed of light in [meters / second]\n",
    "\n",
    "ratio = 1./200e18 # 92./2e18\n",
    "\n",
    "radius = Constants.meters2AU((1./c)*(1./ratio)*(1./Bstrength))\n",
    "\n",
    "position = np.asarray([0,-radius,0])\n",
    "beta = np.asarray([-1,0,0])\n",
    "\n",
    "save = np.array([position])\n",
    "\n",
    "dist_lim = np.pi * radius * 2. * 1.05 \n",
    "step = dist_lim / 1e6\n",
    "\n",
    "dist = 0.\n",
    "target = .01\n",
    "target_step = .01\n",
    "while (dist < dist_lim):\n",
    "    \n",
    "    beta = beta / np.sqrt( np.dot(beta, beta) )\n",
    "    alpha = m_per_AU * ratio * np.cross( beta, c*B )\n",
    "    \n",
    "    beta = beta + (alpha * step)\n",
    "    position = position + (beta * step)\n",
    "    dist += step\n",
    "    \n",
    "    progress = dist / dist_lim\n",
    "    if (progress < .01 or progress > .94 and progress < .96):\n",
    "        save = np.concatenate((save, [position]))        \n",
    "    elif (progress >= target):\n",
    "        save = np.concatenate((save, [position]))\n",
    "        print(str(np.round(100*target)), end=' ', flush=True)\n",
    "        target += target_step "
   ]
  },
  {
   "cell_type": "code",
   "execution_count": 267,
   "metadata": {},
   "outputs": [
    {
     "data": {
      "image/png": "[encoded data removed]",
      "text/plain": [
       "<Figure size 360x360 with 1 Axes>"
      ]
     },
     "metadata": {
      "needs_background": "light"
     },
     "output_type": "display_data"
    }
   ],
   "source": [
    "plt.figure(figsize=[5,5])\n",
    "x = [s[0] for s in save]\n",
    "y = [s[1] for s in save]\n",
    "plt.plot(x,y)\n",
    "\n",
    "#plt.xlim(-1.2*radius,1.2*radius)\n",
    "#plt.ylim(-1.2*radius,1.2*radius)\n",
    "\n",
    "e = 1.\n",
    "plt.xlim(-100*e,100*e)\n",
    "plt.ylim(-radius - e,-radius + e)\n",
    "\n",
    "plt.grid()\n",
    "plt.show()"
   ]
  },
  {
   "cell_type": "code",
   "execution_count": 253,
   "metadata": {},
   "outputs": [
    {
     "data": {
      "text/plain": [
       "299195807849755.44"
      ]
     },
     "execution_count": 253,
     "metadata": {},
     "output_type": "execute_result"
    }
   ],
   "source": [
    "radius"
   ]
  },
  {
   "cell_type": "code",
   "execution_count": 242,
   "metadata": {},
   "outputs": [
    {
     "data": {
      "text/plain": [
       "747.9893535"
      ]
     },
     "execution_count": 242,
     "metadata": {},
     "output_type": "execute_result"
    }
   ],
   "source": [
    "Constants.AU2meters(.5e-8)"
   ]
  },
  {
   "cell_type": "code",
   "execution_count": 268,
   "metadata": {},
   "outputs": [
    {
     "data": {
      "text/plain": [
       "0.16017064251106058"
      ]
     },
     "execution_count": 268,
     "metadata": {},
     "output_type": "execute_result"
    }
   ],
   "source": [
    "Constants.AU2meters(.5 / (np.pi * radius * 2.) * 6.)"
   ]
  },
  {
   "cell_type": "code",
   "execution_count": 244,
   "metadata": {},
   "outputs": [
    {
     "data": {
      "text/plain": [
       "1973897400.6519423"
      ]
     },
     "execution_count": 244,
     "metadata": {},
     "output_type": "execute_result"
    }
   ],
   "source": [
    "Constants.AU2meters(step)"
   ]
  },
  {
   "cell_type": "code",
   "execution_count": 269,
   "metadata": {},
   "outputs": [
    {
     "data": {
      "text/plain": [
       "445947651042.53864"
      ]
     },
     "execution_count": 269,
     "metadata": {},
     "output_type": "execute_result"
    }
   ],
   "source": [
    "radius"
   ]
  },
  {
   "cell_type": "code",
   "execution_count": 290,
   "metadata": {},
   "outputs": [
    {
     "data": {
      "image/png": "[encoded data removed]",
      "text/plain": [
       "<Figure size 432x432 with 1 Axes>"
      ]
     },
     "metadata": {
      "needs_background": "light"
     },
     "output_type": "display_data"
    }
   ],
   "source": [
    "plt.figure(figsize=[6,6])\n",
    "plt.yscale('log')\n",
    "plt.hist( 100.*(np.sqrt((save*save).sum(1)) - radius)/radius, bins=1000 )\n",
    "plt.show()"
   ]
  },
  {
   "cell_type": "code",
   "execution_count": 2,
   "metadata": {},
   "outputs": [],
   "source": [
    "def GetZenith(l, b):\n",
    "    \"\"\"\n",
    "    l = degrees longitude (0 points in +x direction)\n",
    "    b = degrees latitude (0 is the x-y plane)\n",
    "    returns solar system coordinates and zenith unit vector\n",
    "    \"\"\"\n",
    "    Re = Constants.RadiusAU('earth')\n",
    "    l_rad = l * np.pi / 180.\n",
    "    b_rad = b * np.pi / 180.\n",
    "    \n",
    "    zenith_x = np.cos(b_rad) * np.cos(l_rad)\n",
    "    zenith_y = np.cos(b_rad) * np.sin(l_rad)\n",
    "    zenith_z = np.sin(b_rad)\n",
    "    \n",
    "    zenith = np.asarray([zenith_x, zenith_y, zenith_z])\n",
    "    earth  = Re * zenith\n",
    "    solar  = np.asarray([1,0,0]) + earth\n",
    "    \n",
    "    return solar, zenith"
   ]
  },
  {
   "cell_type": "code",
   "execution_count": 57,
   "metadata": {},
   "outputs": [],
   "source": [
    "def GetStartPoints(l, b, n, radius=20, acceptance=90):\n",
    "    \"\"\"\n",
    "    l = degrees longitude (0 points in the +x direction)\n",
    "    b = degrees latitude (0 is the x-y plane)\n",
    "    n = number of points to get\n",
    "    radius = distance away from sun in AU\n",
    "    acceptance = degrees off of zenith, should be 90 (earth surface plane) or less\n",
    "    returns start location and initial heading vectors\n",
    "    \"\"\"\n",
    "    def UnitVectors(n):\n",
    "        \"\"\"\n",
    "        lr = radians\n",
    "        br = radians\n",
    "        return unit vector\n",
    "        \"\"\"\n",
    "        lr = 2.*np.pi * np.random.random(size=n)\n",
    "        br = np.pi * np.random.random(size=n) - np.pi/2.\n",
    "        x = np.cos(br) * np.cos(lr)\n",
    "        y = np.cos(br) * np.sin(lr)\n",
    "        z = np.sin(br)\n",
    "        return np.column_stack((x,y,z))\n",
    "    \n",
    "    earth, zenith = GetZenith(l, b)\n",
    "    \n",
    "    points = np.array([]).reshape(0,3)\n",
    "    trajectory = np.array([]).reshape(0,3)\n",
    "    \n",
    "    while (len(points) < n):\n",
    "        p = radius * UnitVectors(n - len(points))\n",
    "        t = earth - p\n",
    "            \n",
    "        # make unit vector\n",
    "        t = t / np.sqrt( (t*t).sum(1) ).reshape(1,-1).T\n",
    "            \n",
    "        angles = 180. / np.pi * np.arccos( np.dot(t, -zenith) )\n",
    "    \n",
    "        # keep only points forward of the earth surface plane\n",
    "        condition = (angles <= acceptance)\n",
    "    \n",
    "        points = np.concatenate((points, p[condition]))\n",
    "        trajectory = np.concatenate((trajectory, t[condition]))\n",
    "    \n",
    "    return points, trajectory"
   ]
  },
  {
   "cell_type": "code",
   "execution_count": 4,
   "metadata": {},
   "outputs": [],
   "source": [
    "def HaversineNormalized(lat1, lon1, lat2, lon2):\n",
    "    \"\"\" Normalized the earth radius aka 1 = Re\n",
    "    \"\"\"\n",
    "    lat1 *= np.pi / 180.\n",
    "    lon1 *= np.pi / 180.\n",
    "    lat2 *= np.pi / 180.\n",
    "    lon2 *= np.pi / 180.\n",
    "    \n",
    "    part1 = np.sin( (lat2 - lat1) / 2. )**2.\n",
    "    part2 = np.cos(lat1) * np.cos(lat2)\n",
    "    part3 = np.sin( (lon2 - lon1) / 2. )**2.\n",
    "\n",
    "    return 2. * np.arcsin( np.sqrt(part1 + part2 * part3) )"
   ]
  },
  {
   "cell_type": "code",
   "execution_count": 47,
   "metadata": {},
   "outputs": [],
   "source": [
    "def Trajectories(l, b, ratio, n=1):\n",
    "    \n",
    "    m_per_AU = Constants.AU2meters(1.) # meters in 1 AU\n",
    "    c = Constants.lightspeed_m_per_s() # speed of light in [meters / second]\n",
    "    Re = Constants.RadiusAU('earth')\n",
    "    E = np.asarray([1,0,0])\n",
    "    \n",
    "    #trajectories = []\n",
    "    #latlons = []\n",
    "     \n",
    "    out = []\n",
    "    \n",
    "    points, heading = GetStartPoints(l, b, n)\n",
    "    for point, heading in zip(points, heading):\n",
    "        \n",
    "        position = np.asarray(point)\n",
    "        #save = np.asarray([position])\n",
    "        beta = np.asarray(heading)\n",
    "        \n",
    "        r_earth = position - E\n",
    "        dist_earth = np.sqrt( np.dot(r_earth, r_earth) )\n",
    "        limit = dist_earth + 2.*Re\n",
    "        \n",
    "        r_hat = r_earth / dist_earth\n",
    "        cosE = np.dot(beta, -r_hat)\n",
    "        x = (dist_earth * cosE) - np.sqrt(Re**2 - dist_earth**2 * (1. - cosE*cosE))\n",
    "        R = r_earth + (x * beta)\n",
    "        f = np.sqrt(np.dot(R,R)) / Re\n",
    "        u = R / np.sqrt(np.dot(R,R))\n",
    "        ll = (180./np.pi) * np.arctan2(u[1], u[0])\n",
    "        bb = (180./np.pi) * np.arctan2(u[2], np.sqrt(u[0]*u[0] + u[1]*u[1]))\n",
    "        #if ( (not np.isclose(l, ll, atol=1e-3)) or (not np.isclose(b, bb, atol=1e-3)) ):\n",
    "        #    print('not close enough, skipping')\n",
    "        #    print('(l,b) projected = ' + str(ll) + ', ' + str(bb))\n",
    "        #    continue\n",
    "        \n",
    "        step_max = limit / 1e4 #np.log10(limit / 1e4)\n",
    "        step_mid = 5. * Re #Constants.meters2AU(10e6) #np.log10(Constants.meters2AU(1e3))\n",
    "        #step_min = Constants.meters2AU(100e3)\n",
    "        \n",
    "        near_earth = 5. * Re\n",
    "        step_slope1 = (step_max - step_mid) / limit\n",
    "        #step_slope2 = (step_mid - step_min) / near_earth\n",
    "        \n",
    "        step = step_slope1 * dist_earth + step_mid #np.power(10., step_slope * dist_earth + step_min)\n",
    "                \n",
    "        target = .01\n",
    "        target_step = .01\n",
    "        \n",
    "        dist = 0.\n",
    "        #save_step = 100\n",
    "        #save_counter = 0\n",
    "        while (dist < limit):\n",
    "    \n",
    "            beta = beta / np.sqrt( np.dot(beta, beta) )\n",
    "                        \n",
    "            B = Bfield.cartesianTesla(position) # [Tesla] \n",
    "            alpha = m_per_AU * ratio * np.cross( beta, c*B )\n",
    "    \n",
    "            beta = beta + (alpha * step)\n",
    "            position = position + (beta * step)\n",
    "            \n",
    "            r_earth = position - E\n",
    "            dist_earth = np.sqrt( np.dot(r_earth, r_earth) )\n",
    "            if (dist_earth > near_earth):\n",
    "                step = step_slope1 * dist_earth + step_mid\n",
    "            else:\n",
    "                r_hat = r_earth / dist_earth\n",
    "                cosE = np.dot(beta, -r_hat)\n",
    "                ratical = Re**2 - dist_earth**2 * (1. - cosE*cosE)\n",
    "                if (ratical < 0.):\n",
    "                    print('misses the earth, ending this simulation')\n",
    "                    break\n",
    "                x = (dist_earth * cosE) - np.sqrt(ratical)\n",
    "                R = r_earth + (x * beta)\n",
    "                f = np.sqrt(np.dot(R,R)) / Re\n",
    "                if (not np.isclose(f, 1.)):\n",
    "                    print('extrapolation of trajectory failed, skipping')\n",
    "                    break\n",
    "                u = R / np.sqrt(np.dot(R,R))\n",
    "                ll = (180./np.pi) * np.arctan2(u[1], u[0])\n",
    "                bb = (180./np.pi) * np.arctan2(u[2], np.sqrt(u[0]*u[0] + u[1]*u[1]))\n",
    "                out.append(HaversineNormalized(b, l, bb, ll) * Constants.RadiusMeters('earth'))\n",
    "                print(' finished', end='', flush=True)\n",
    "                break\n",
    "                #step = step_slope2 * dist_earth + step_min\n",
    "            \n",
    "            dist += step\n",
    "    \n",
    "            \"\"\"\n",
    "            save_counter += 1\n",
    "            if (save_counter >= save_step):\n",
    "                save = np.concatenate((save, [position]))\n",
    "\n",
    "                r_hat = r_earth / dist_earth\n",
    "                cosE = np.dot(beta, -r_hat)\n",
    "                x = (dist_earth * cosE) - np.sqrt(Re**2 - dist_earth**2 * (1. - cosE*cosE))\n",
    "                R = r_earth + (x * beta)\n",
    "                f = np.sqrt(np.dot(R,R)) / Re\n",
    "                u = R / np.sqrt(np.dot(R,R))\n",
    "                ll = (180./np.pi) * np.arctan2(u[1], u[0])\n",
    "                bb = (180./np.pi) * np.arctan2(u[2], np.sqrt(u[0]*u[0] + u[1]*u[1]))\n",
    "                savelbf = np.concatenate((savelbf, [np.asarray([ll, bb, f])]))\n",
    "                \n",
    "                save_counter = 0\n",
    "            elif (dist_earth < 1.5 * Constants.RadiusAU('earth')):\n",
    "                save = np.concatenate((save, [position]))\n",
    "                \n",
    "                r_hat = r_earth / dist_earth\n",
    "                cosE = np.dot(beta, -r_hat)\n",
    "                x = (dist_earth * cosE) - np.sqrt(Re**2 - dist_earth**2 * (1. - cosE*cosE))\n",
    "                R = r_earth + (x * beta)\n",
    "                f = np.sqrt(np.dot(R,R)) / Re\n",
    "                u = R / np.sqrt(np.dot(R,R))\n",
    "                ll = (180./np.pi) * np.arctan2(u[1], u[0])\n",
    "                bb = (180./np.pi) * np.arctan2(u[2], np.sqrt(u[0]*u[0] + u[1]*u[1]))\n",
    "                savelbf = np.concatenate((savelbf, [np.asarray([ll, bb, f])]))\n",
    "            \"\"\"\n",
    "            progress = dist / limit\n",
    "            if (progress >= target):\n",
    "                print(str(np.round(100*target)), end=' ', flush=True)\n",
    "                target += target_step \n",
    "            \n",
    "            #if (dist_earth <= Constants.RadiusAU('earth')):\n",
    "            #    print(' finished', end='', flush=True)\n",
    "            #    break\n",
    "        print()\n",
    "        #trajectories.append(save)\n",
    "        #latlons.append(savelbf)\n",
    "    \n",
    "    return out #trajectories, latlons"
   ]
  },
  {
   "cell_type": "code",
   "execution_count": 58,
   "metadata": {},
   "outputs": [
    {
     "name": "stdout",
     "output_type": "stream",
     "text": [
      "1.0 2.0 3.0 4.0 5.0 6.0 7.0 8.0 9.0 10.0 11.0 12.0 13.0 14.0 15.0 16.0 17.0 18.0 19.0 20.0 21.0 22.0 23.0 24.0 25.0 26.0 27.0 28.0 29.0 30.0 31.0 32.0 33.0 34.0 35.0 36.0 37.0 38.0 39.0 40.0 41.0 42.0 43.0 44.0 45.0 46.0 47.0 48.0 49.0 50.0 51.0 52.0 53.0 54.0 55.0 56.0 57.0 58.0 59.0 60.0 61.0 62.0 63.0 64.0 65.0 66.0 67.0 68.0 69.0 70.0 71.0 72.0 73.0 74.0 75.0 76.0 77.0 78.0 79.0 80.0 81.0 82.0 83.0 84.0 85.0 86.0 87.0 88.0 89.0 90.0 91.0 92.0 93.0 94.0 95.0 96.0 97.0 98.0 99.0  finished\n",
      "[1425183.5992938865]\n",
      "30.71951937675476\n"
     ]
    }
   ],
   "source": [
    "np.random.seed(0)\n",
    "start = time.time()\n",
    "print( Trajectories(-180., 10., 92./20e18) )\n",
    "end = time.time()\n",
    "print(end - start)"
   ]
  },
  {
   "cell_type": "code",
   "execution_count": 639,
   "metadata": {},
   "outputs": [
    {
     "name": "stdout",
     "output_type": "stream",
     "text": [
      "1.0 2.0 3.0 4.0 5.0 6.0 7.0 8.0 9.0 10.0 11.0 12.0 13.0 14.0 15.0 16.0 17.0 18.0 19.0 20.0 21.0 22.0 23.0 24.0 25.0 26.0 27.0 28.0 29.0 30.0 31.0 32.0 33.0 34.0 35.0 36.0 37.0 38.0 39.0 40.0 41.0 42.0 43.0 44.0 45.0 46.0 47.0 48.0 49.0 50.0 51.0 52.0 53.0 54.0 55.0 56.0 57.0 58.0 59.0 60.0 61.0 62.0 63.0 64.0 65.0 66.0 67.0 68.0 "
     ]
    },
    {
     "name": "stderr",
     "output_type": "stream",
     "text": [
      "C:\\Users\\EricK\\Anaconda3\\envs\\py37\\lib\\site-packages\\ipykernel_launcher.py:72: RuntimeWarning: invalid value encountered in sqrt\n"
     ]
    },
    {
     "name": "stdout",
     "output_type": "stream",
     "text": [
      "69.0 70.0 71.0 72.0 73.0 74.0 75.0 76.0 77.0 78.0 79.0 80.0 81.0 82.0 83.0 84.0 85.0 86.0 87.0 88.0 89.0 90.0 91.0 92.0 93.0 94.0 95.0 96.0 97.0 98.0 99.0 100.0 \n",
      "[nan]\n",
      "[nan]\n",
      "[nan]\n"
     ]
    },
    {
     "name": "stderr",
     "output_type": "stream",
     "text": [
      "C:\\Users\\EricK\\Anaconda3\\envs\\py37\\lib\\site-packages\\ipykernel_launcher.py:86: RuntimeWarning: invalid value encountered in sqrt\n"
     ]
    },
    {
     "data": {
      "text/plain": [
       "nan"
      ]
     },
     "execution_count": 639,
     "metadata": {},
     "output_type": "execute_result"
    }
   ],
   "source": [
    "np.random.seed(0)\n",
    "\n",
    "lo = 230.\n",
    "bo = 60.\n",
    "\n",
    "t, lbf = Trajectories(lo,bo,92./2e18)\n",
    "\n",
    "R = t[0][-1]\n",
    "\n",
    "l = [ x[0] for x in lbf[0] ]\n",
    "b = [ x[1] for x in lbf[0] ]\n",
    "f = [ x[2] for x in lbf[0] ]\n",
    "\n",
    "print(l[-1:])\n",
    "print(b[-1:])\n",
    "print(f[-1:])\n",
    "\n",
    "HaversineNormalized(bo, lo, b[-1], l[-1]) * Constants.RadiusMeters('earth')"
   ]
  },
  {
   "cell_type": "code",
   "execution_count": 53,
   "metadata": {},
   "outputs": [
    {
     "data": {
      "text/plain": [
       "238956051"
      ]
     },
     "execution_count": 53,
     "metadata": {},
     "output_type": "execute_result"
    }
   ],
   "source": [
    "np.random.randint(0, 999999999)"
   ]
  },
  {
   "cell_type": "code",
   "execution_count": 660,
   "metadata": {},
   "outputs": [
    {
     "data": {
      "image/png": "[encoded data removed]",
      "text/plain": [
       "<Figure size 720x720 with 1 Axes>"
      ]
     },
     "metadata": {
      "needs_background": "light"
     },
     "output_type": "display_data"
    }
   ],
   "source": [
    "plt.figure(figsize=[10,10])\n",
    "r = t[0] - np.asarray([1,0,0])\n",
    "plt.plot(np.sqrt((r*r).sum(1)) / Constants.RadiusAU('earth'), 'o')\n",
    "#plt.ylim(0,100)\n",
    "#plt.xlim(250,300)\n",
    "plt.grid()"
   ]
  },
  {
   "cell_type": "code",
   "execution_count": 646,
   "metadata": {},
   "outputs": [],
   "source": [
    "l = [ x[0] for x in lbf[0] ]\n",
    "b = [ x[1] for x in lbf[0] ]\n",
    "f = [ x[2] for x in lbf[0] ]"
   ]
  },
  {
   "cell_type": "code",
   "execution_count": 648,
   "metadata": {},
   "outputs": [
    {
     "data": {
      "image/png": "[encoded data removed]",
      "text/plain": [
       "<Figure size 432x288 with 1 Axes>"
      ]
     },
     "metadata": {
      "needs_background": "light"
     },
     "output_type": "display_data"
    }
   ],
   "source": [
    "i=0\n",
    "plt.plot(l[i:],b[i:])\n",
    "plt.plot(l[i:][0], b[i:][0], 'o')\n",
    "plt.plot(l[i:][-1], b[i:][-1], 'o')\n",
    "#plt.ylim(-5e-5,5e-5)\n",
    "#plt.xlim(-5e-5,5e-5)\n",
    "plt.grid()"
   ]
  },
  {
   "cell_type": "code",
   "execution_count": 649,
   "metadata": {},
   "outputs": [
    {
     "data": {
      "text/plain": [
       "[<matplotlib.lines.Line2D at 0x24c9b19fd68>]"
      ]
     },
     "execution_count": 649,
     "metadata": {},
     "output_type": "execute_result"
    },
    {
     "data": {
      "image/png": "[encoded data removed]",
      "text/plain": [
       "<Figure size 432x288 with 1 Axes>"
      ]
     },
     "metadata": {
      "needs_background": "light"
     },
     "output_type": "display_data"
    }
   ],
   "source": [
    "plt.plot(l)"
   ]
  },
  {
   "cell_type": "code",
   "execution_count": 650,
   "metadata": {},
   "outputs": [
    {
     "data": {
      "text/plain": [
       "[<matplotlib.lines.Line2D at 0x24c9b88db70>]"
      ]
     },
     "execution_count": 650,
     "metadata": {},
     "output_type": "execute_result"
    },
    {
     "data": {
      "image/png": "[encoded data removed]",
      "text/plain": [
       "<Figure size 432x288 with 1 Axes>"
      ]
     },
     "metadata": {
      "needs_background": "light"
     },
     "output_type": "display_data"
    }
   ],
   "source": [
    "plt.plot( b)"
   ]
  },
  {
   "cell_type": "code",
   "execution_count": 651,
   "metadata": {},
   "outputs": [
    {
     "data": {
      "image/png": "[encoded data removed]",
      "text/plain": [
       "<Figure size 432x288 with 1 Axes>"
      ]
     },
     "metadata": {
      "needs_background": "light"
     },
     "output_type": "display_data"
    }
   ],
   "source": [
    "plt.plot(f)\n",
    "plt.grid()\n",
    "#plt.ylim(1-1e-10, 1+1e-10)\n",
    "#plt.xlim(100,120)"
   ]
  },
  {
   "cell_type": "code",
   "execution_count": 614,
   "metadata": {},
   "outputs": [
    {
     "data": {
      "text/plain": [
       "[1.0000000000982705,\n",
       " 0.9999999999897969,\n",
       " 1.0000000000098968,\n",
       " 1.0000000000002944,\n",
       " 1.0]"
      ]
     },
     "execution_count": 614,
     "metadata": {},
     "output_type": "execute_result"
    }
   ],
   "source": [
    "f[-5:]"
   ]
  },
  {
   "cell_type": "code",
   "execution_count": 615,
   "metadata": {},
   "outputs": [],
   "source": [
    "def HaversineNormalized(lat1, lon1, lat2, lon2):\n",
    "    \"\"\" Normalized the earth radius aka 1 = Re\n",
    "    \"\"\"\n",
    "    lat1 *= np.pi / 180.\n",
    "    lon1 *= np.pi / 180.\n",
    "    lat2 *= np.pi / 180.\n",
    "    lon2 *= np.pi / 180.\n",
    "    \n",
    "    part1 = np.sin( (lat2 - lat1) / 2. )**2.\n",
    "    part2 = np.cos(lat1) * np.cos(lat2)\n",
    "    part3 = np.sin( (lon2 - lon1) / 2. )**2.\n",
    "\n",
    "    return 2. * np.arcsin( np.sqrt(part1 + part2 * part3) )"
   ]
  },
  {
   "cell_type": "code",
   "execution_count": 616,
   "metadata": {},
   "outputs": [
    {
     "data": {
      "text/plain": [
       "0.00233003486579294"
      ]
     },
     "execution_count": 616,
     "metadata": {},
     "output_type": "execute_result"
    }
   ],
   "source": [
    "HaversineNormalized(0., 0., b[-1], l[-1]) * Constants.RadiusMeters('earth')"
   ]
  },
  {
   "cell_type": "code",
   "execution_count": 658,
   "metadata": {},
   "outputs": [
    {
     "data": {
      "text/plain": [
       "<mpl_toolkits.mplot3d.art3d.Path3DCollection at 0x24cf130ca20>"
      ]
     },
     "execution_count": 658,
     "metadata": {},
     "output_type": "execute_result"
    },
    {
     "data": {
      "image/png": "[encoded data removed]",
      "text/plain": [
       "<Figure size 432x288 with 1 Axes>"
      ]
     },
     "metadata": {
      "needs_background": "light"
     },
     "output_type": "display_data"
    }
   ],
   "source": [
    "x = [ r[0] for r in t[0] ]\n",
    "y = [ r[1] for r in t[0] ]\n",
    "z = [ r[2] for r in t[0] ]\n",
    "fig = plt.figure()\n",
    "ax = fig.add_subplot(111, projection='3d')\n",
    "ax.scatter(x,y,z)"
   ]
  },
  {
   "cell_type": "code",
   "execution_count": 653,
   "metadata": {},
   "outputs": [],
   "source": [
    "from mpl_toolkits.mplot3d import Axes3D"
   ]
  },
  {
   "cell_type": "code",
   "execution_count": 657,
   "metadata": {},
   "outputs": [
    {
     "data": {
      "text/plain": [
       "[array([[-7.43655933e+00, -2.35513933e+00,  6.25706833e+00],\n",
       "        [-7.35258403e+00, -2.33169701e+00,  6.19478738e+00],\n",
       "        [-7.26939269e+00, -2.30847354e+00,  6.13308786e+00],\n",
       "        [-7.18697800e+00, -2.28546688e+00,  6.07196434e+00],\n",
       "        [-7.10533269e+00, -2.26267500e+00,  6.01141145e+00],\n",
       "        [-7.02444960e+00, -2.24009590e+00,  5.95142386e+00],\n",
       "        [-6.94432159e+00, -2.21772759e+00,  5.89199629e+00],\n",
       "        [-6.86494163e+00, -2.19556809e+00,  5.83312350e+00],\n",
       "        [-6.78630274e+00, -2.17361547e+00,  5.77480034e+00],\n",
       "        [-6.70839798e+00, -2.15186779e+00,  5.71702165e+00],\n",
       "        [-6.63122051e+00, -2.13032314e+00,  5.65978236e+00],\n",
       "        [-6.55476354e+00, -2.10897962e+00,  5.60307744e+00],\n",
       "        [-6.47902034e+00, -2.08783536e+00,  5.54690189e+00],\n",
       "        [-6.40398425e+00, -2.06688849e+00,  5.49125078e+00],\n",
       "        [-6.32964866e+00, -2.04613717e+00,  5.43611920e+00],\n",
       "        [-6.25600705e+00, -2.02557958e+00,  5.38150231e+00],\n",
       "        [-6.18305292e+00, -2.00521391e+00,  5.32739530e+00],\n",
       "        [-6.11077987e+00, -1.98503836e+00,  5.27379341e+00],\n",
       "        [-6.03918153e+00, -1.96505116e+00,  5.22069193e+00],\n",
       "        [-5.96825160e+00, -1.94525056e+00,  5.16808618e+00],\n",
       "        [-5.89798385e+00, -1.92563480e+00,  5.11597153e+00],\n",
       "        [-5.82837210e+00, -1.90620218e+00,  5.06434340e+00],\n",
       "        [-5.75941022e+00, -1.88695097e+00,  5.01319724e+00],\n",
       "        [-5.69109215e+00, -1.86787948e+00,  4.96252855e+00],\n",
       "        [-5.62341187e+00, -1.84898604e+00,  4.91233288e+00],\n",
       "        [-5.55636343e+00, -1.83026899e+00,  4.86260581e+00],\n",
       "        [-5.48994094e+00, -1.81172667e+00,  4.81334296e+00],\n",
       "        [-5.42413855e+00, -1.79335745e+00,  4.76454000e+00],\n",
       "        [-5.35895046e+00, -1.77515973e+00,  4.71619265e+00],\n",
       "        [-5.29437095e+00, -1.75713189e+00,  4.66829663e+00],\n",
       "        [-5.23039434e+00, -1.73927235e+00,  4.62084775e+00],\n",
       "        [-5.16701499e+00, -1.72157955e+00,  4.57384183e+00],\n",
       "        [-5.10422733e+00, -1.70405192e+00,  4.52727472e+00],\n",
       "        [-5.04202583e+00, -1.68668793e+00,  4.48114235e+00],\n",
       "        [-4.98040503e+00, -1.66948603e+00,  4.43544064e+00],\n",
       "        [-4.91935950e+00, -1.65244473e+00,  4.39016557e+00],\n",
       "        [-4.85888387e+00, -1.63556253e+00,  4.34531317e+00],\n",
       "        [-4.79897283e+00, -1.61883793e+00,  4.30087949e+00],\n",
       "        [-4.73962109e+00, -1.60226946e+00,  4.25686062e+00],\n",
       "        [-4.68082344e+00, -1.58585567e+00,  4.21325268e+00],\n",
       "        [-4.62257471e+00, -1.56959512e+00,  4.17005184e+00],\n",
       "        [-4.56486977e+00, -1.55348637e+00,  4.12725430e+00],\n",
       "        [-4.50770355e+00, -1.53752801e+00,  4.08485630e+00],\n",
       "        [-4.45107101e+00, -1.52171863e+00,  4.04285410e+00],\n",
       "        [-4.39496718e+00, -1.50605684e+00,  4.00124401e+00],\n",
       "        [-4.33938711e+00, -1.49054127e+00,  3.96002237e+00],\n",
       "        [-4.28432592e+00, -1.47517054e+00,  3.91918555e+00],\n",
       "        [-4.22977876e+00, -1.45994331e+00,  3.87872997e+00],\n",
       "        [-4.17574084e+00, -1.44485824e+00,  3.83865205e+00],\n",
       "        [-4.12220740e+00, -1.42991400e+00,  3.79894828e+00],\n",
       "        [-4.06917373e+00, -1.41510927e+00,  3.75961516e+00],\n",
       "        [-4.01663517e+00, -1.40044275e+00,  3.72064924e+00],\n",
       "        [-3.96458709e+00, -1.38591316e+00,  3.68204708e+00],\n",
       "        [-3.91302492e+00, -1.37151921e+00,  3.64380528e+00],\n",
       "        [-3.86194411e+00, -1.35725964e+00,  3.60592050e+00],\n",
       "        [-3.81134018e+00, -1.34313319e+00,  3.56838938e+00],\n",
       "        [-3.76120867e+00, -1.32913862e+00,  3.53120863e+00],\n",
       "        [-3.71154517e+00, -1.31527470e+00,  3.49437498e+00],\n",
       "        [-3.66234532e+00, -1.30154021e+00,  3.45788520e+00],\n",
       "        [-3.61360478e+00, -1.28793394e+00,  3.42173605e+00],\n",
       "        [-3.56531926e+00, -1.27445470e+00,  3.38592438e+00],\n",
       "        [-3.51748453e+00, -1.26110129e+00,  3.35044703e+00],\n",
       "        [-3.47009636e+00, -1.24787255e+00,  3.31530087e+00],\n",
       "        [-3.42315060e+00, -1.23476730e+00,  3.28048282e+00],\n",
       "        [-3.37664311e+00, -1.22178441e+00,  3.24598981e+00],\n",
       "        [-3.33056979e+00, -1.20892271e+00,  3.21181881e+00],\n",
       "        [-3.28492661e+00, -1.19618109e+00,  3.17796680e+00],\n",
       "        [-3.23970953e+00, -1.18355843e+00,  3.14443083e+00],\n",
       "        [-3.19491458e+00, -1.17105360e+00,  3.11120792e+00],\n",
       "        [-3.15053783e+00, -1.15866552e+00,  3.07829517e+00],\n",
       "        [-3.10657537e+00, -1.14639308e+00,  3.04568967e+00],\n",
       "        [-3.06302332e+00, -1.13423522e+00,  3.01338856e+00],\n",
       "        [-3.01987787e+00, -1.12219086e+00,  2.98138899e+00],\n",
       "        [-2.97713520e+00, -1.11025895e+00,  2.94968815e+00],\n",
       "        [-2.93479157e+00, -1.09843842e+00,  2.91828325e+00],\n",
       "        [-2.89284325e+00, -1.08672825e+00,  2.88717154e+00],\n",
       "        [-2.85128654e+00, -1.07512741e+00,  2.85635026e+00],\n",
       "        [-2.81011779e+00, -1.06363486e+00,  2.82581672e+00],\n",
       "        [-2.76933338e+00, -1.05224961e+00,  2.79556821e+00],\n",
       "        [-2.72892972e+00, -1.04097064e+00,  2.76560209e+00],\n",
       "        [-2.68890326e+00, -1.02979698e+00,  2.73591572e+00],\n",
       "        [-2.64925048e+00, -1.01872762e+00,  2.70650648e+00],\n",
       "        [-2.60996788e+00, -1.00776161e+00,  2.67737179e+00],\n",
       "        [-2.57105201e+00, -9.96897972e-01,  2.64850909e+00],\n",
       "        [-2.53249944e+00, -9.86135754e-01,  2.61991583e+00],\n",
       "        [-2.49430679e+00, -9.75474010e-01,  2.59158950e+00],\n",
       "        [-2.45647070e+00, -9.64911800e-01,  2.56352761e+00],\n",
       "        [-2.41898783e+00, -9.54448197e-01,  2.53572769e+00],\n",
       "        [-2.38185490e+00, -9.44082278e-01,  2.50818730e+00],\n",
       "        [-2.34506862e+00, -9.33813133e-01,  2.48090400e+00],\n",
       "        [-2.30862577e+00, -9.23639858e-01,  2.45387541e+00],\n",
       "        [-2.27252314e+00, -9.13561558e-01,  2.42709914e+00],\n",
       "        [-2.23675755e+00, -9.03577346e-01,  2.40057284e+00],\n",
       "        [-2.20132586e+00, -8.93686343e-01,  2.37429417e+00],\n",
       "        [-2.16622494e+00, -8.83887681e-01,  2.34826082e+00],\n",
       "        [-2.13145172e+00, -8.74180496e-01,  2.32247051e+00],\n",
       "        [-2.09700314e+00, -8.64563934e-01,  2.29692096e+00],\n",
       "        [-2.06287615e+00, -8.55037151e-01,  2.27160993e+00],\n",
       "        [-2.02906776e+00, -8.45599306e-01,  2.24653518e+00],\n",
       "        [-1.99557500e+00, -8.36249571e-01,  2.22169452e+00],\n",
       "        [-1.96239492e+00, -8.26987122e-01,  2.19708575e+00],\n",
       "        [-1.92952459e+00, -8.17811146e-01,  2.17270672e+00],\n",
       "        [-1.89696114e+00, -8.08720833e-01,  2.14855528e+00],\n",
       "        [-1.86470168e+00, -7.99715385e-01,  2.12462930e+00],\n",
       "        [-1.83274339e+00, -7.90794010e-01,  2.10092668e+00],\n",
       "        [-1.80108346e+00, -7.81955922e-01,  2.07744534e+00],\n",
       "        [-1.76971909e+00, -7.73200345e-01,  2.05418320e+00],\n",
       "        [-1.73864753e+00, -7.64526507e-01,  2.03113822e+00],\n",
       "        [-1.70786605e+00, -7.55933646e-01,  2.00830838e+00],\n",
       "        [-1.67737193e+00, -7.47421005e-01,  1.98569166e+00],\n",
       "        [-1.64716249e+00, -7.38987836e-01,  1.96328608e+00],\n",
       "        [-1.61723509e+00, -7.30633397e-01,  1.94108967e+00],\n",
       "        [-1.58758707e+00, -7.22356953e-01,  1.91910046e+00],\n",
       "        [-1.55821585e+00, -7.14157776e-01,  1.89731654e+00],\n",
       "        [-1.52911882e+00, -7.06035144e-01,  1.87573598e+00],\n",
       "        [-1.50029343e+00, -6.97988343e-01,  1.85435687e+00],\n",
       "        [-1.47173715e+00, -6.90016665e-01,  1.83317736e+00],\n",
       "        [-1.44344747e+00, -6.82119408e-01,  1.81219556e+00],\n",
       "        [-1.41542189e+00, -6.74295878e-01,  1.79140963e+00],\n",
       "        [-1.38765794e+00, -6.66545387e-01,  1.77081775e+00],\n",
       "        [-1.36015319e+00, -6.58867252e-01,  1.75041811e+00],\n",
       "        [-1.33290522e+00, -6.51260799e-01,  1.73020890e+00],\n",
       "        [-1.30591163e+00, -6.43725357e-01,  1.71018835e+00],\n",
       "        [-1.27917005e+00, -6.36260264e-01,  1.69035470e+00],\n",
       "        [-1.25267811e+00, -6.28864864e-01,  1.67070621e+00],\n",
       "        [-1.22643350e+00, -6.21538505e-01,  1.65124114e+00],\n",
       "        [-1.20043390e+00, -6.14280544e-01,  1.63195779e+00],\n",
       "        [-1.17467702e+00, -6.07090341e-01,  1.61285445e+00],\n",
       "        [-1.14916060e+00, -5.99967264e-01,  1.59392945e+00],\n",
       "        [-1.12388240e+00, -5.92910686e-01,  1.57518112e+00],\n",
       "        [-1.09884019e+00, -5.85919987e-01,  1.55660782e+00],\n",
       "        [-1.07403176e+00, -5.78994552e-01,  1.53820790e+00],\n",
       "        [-1.04945494e+00, -5.72133770e-01,  1.51997976e+00],\n",
       "        [-1.02510756e+00, -5.65337040e-01,  1.50192178e+00],\n",
       "        [-1.00098748e+00, -5.58603762e-01,  1.48403237e+00],\n",
       "        [-9.77092585e-01, -5.51933344e-01,  1.46630998e+00],\n",
       "        [-9.53420762e-01, -5.45325200e-01,  1.44875302e+00],\n",
       "        [-9.29969932e-01, -5.38778748e-01,  1.43135997e+00],\n",
       "        [-9.06738033e-01, -5.32293412e-01,  1.41412929e+00],\n",
       "        [-8.83723021e-01, -5.25868622e-01,  1.39705946e+00],\n",
       "        [-8.60922872e-01, -5.19503812e-01,  1.38014899e+00],\n",
       "        [-8.38335578e-01, -5.13198423e-01,  1.36339638e+00],\n",
       "        [-8.15959153e-01, -5.06951900e-01,  1.34680016e+00],\n",
       "        [-7.93791628e-01, -5.00763692e-01,  1.33035887e+00],\n",
       "        [-7.71831054e-01, -4.94633257e-01,  1.31407107e+00],\n",
       "        [-7.50075498e-01, -4.88560054e-01,  1.29793532e+00],\n",
       "        [-7.28523046e-01, -4.82543549e-01,  1.28195021e+00],\n",
       "        [-7.07171803e-01, -4.76583213e-01,  1.26611432e+00],\n",
       "        [-6.86019889e-01, -4.70678521e-01,  1.25042626e+00],\n",
       "        [-6.65065444e-01, -4.64828954e-01,  1.23488466e+00],\n",
       "        [-6.44306624e-01, -4.59033998e-01,  1.21948814e+00],\n",
       "        [-6.23741603e-01, -4.53293142e-01,  1.20423535e+00],\n",
       "        [-6.03368572e-01, -4.47605882e-01,  1.18912496e+00],\n",
       "        [-5.83185739e-01, -4.41971717e-01,  1.17415562e+00],\n",
       "        [-5.63191327e-01, -4.36390151e-01,  1.15932603e+00],\n",
       "        [-5.43383578e-01, -4.30860694e-01,  1.14463487e+00],\n",
       "        [-5.23760750e-01, -4.25382859e-01,  1.13008087e+00],\n",
       "        [-5.04321115e-01, -4.19956164e-01,  1.11566273e+00],\n",
       "        [-4.85062964e-01, -4.14580131e-01,  1.10137918e+00],\n",
       "        [-4.65984603e-01, -4.09254288e-01,  1.08722898e+00],\n",
       "        [-4.47084352e-01, -4.03978166e-01,  1.07321088e+00],\n",
       "        [-4.28360550e-01, -3.98751301e-01,  1.05932364e+00],\n",
       "        [-4.09811548e-01, -3.93573233e-01,  1.04556604e+00],\n",
       "        [-3.91435715e-01, -3.88443507e-01,  1.03193687e+00],\n",
       "        [-3.73231435e-01, -3.83361671e-01,  1.01843493e+00],\n",
       "        [-3.55197105e-01, -3.78327278e-01,  1.00505904e+00],\n",
       "        [-3.37331140e-01, -3.73339885e-01,  9.91808014e-01],\n",
       "        [-3.19631966e-01, -3.68399054e-01,  9.78680693e-01],\n",
       "        [-3.02098028e-01, -3.63504350e-01,  9.65675919e-01],\n",
       "        [-2.84727783e-01, -3.58655342e-01,  9.52792548e-01],\n",
       "        [-2.67519702e-01, -3.53851603e-01,  9.40029448e-01],\n",
       "        [-2.50472271e-01, -3.49092712e-01,  9.27385495e-01],\n",
       "        [-2.33583991e-01, -3.44378249e-01,  9.14859577e-01],\n",
       "        [-2.16853375e-01, -3.39707800e-01,  9.02450592e-01],\n",
       "        [-2.00278953e-01, -3.35080953e-01,  8.90157450e-01],\n",
       "        [-1.83859265e-01, -3.30497302e-01,  8.77979068e-01],\n",
       "        [-1.67592866e-01, -3.25956444e-01,  8.65914375e-01],\n",
       "        [-1.51478327e-01, -3.21457978e-01,  8.53962310e-01],\n",
       "        [-1.35514228e-01, -3.17001510e-01,  8.42121822e-01],\n",
       "        [-1.19699165e-01, -3.12586646e-01,  8.30391870e-01],\n",
       "        [-1.04031747e-01, -3.08212999e-01,  8.18771421e-01],\n",
       "        [-8.85105953e-02, -3.03880185e-01,  8.07259454e-01],\n",
       "        [-7.31343440e-02, -2.99587820e-01,  7.95854956e-01],\n",
       "        [-5.79016402e-02, -2.95335529e-01,  7.84556925e-01],\n",
       "        [-4.28111437e-02, -2.91122936e-01,  7.73364367e-01],\n",
       "        [-2.78615264e-02, -2.86949671e-01,  7.62276296e-01],\n",
       "        [-1.30514731e-02, -2.82815367e-01,  7.51291739e-01],\n",
       "        [ 1.62031945e-03, -2.78719660e-01,  7.40409730e-01],\n",
       "        [ 1.61551423e-02, -2.74662189e-01,  7.29629311e-01],\n",
       "        [ 3.05542744e-02, -2.70642598e-01,  7.18949534e-01],\n",
       "        [ 4.48189827e-02, -2.66660532e-01,  7.08369461e-01],\n",
       "        [ 5.89505225e-02, -2.62715641e-01,  6.97888161e-01],\n",
       "        [ 7.29501372e-02, -2.58807578e-01,  6.87504712e-01],\n",
       "        [ 8.68190587e-02, -2.54935998e-01,  6.77218202e-01],\n",
       "        [ 1.00558507e-01, -2.51100560e-01,  6.67027725e-01],\n",
       "        [ 1.14169692e-01, -2.47300927e-01,  6.56932386e-01],\n",
       "        [ 1.27653810e-01, -2.43536765e-01,  6.46931297e-01],\n",
       "        [ 1.41012049e-01, -2.39807741e-01,  6.37023578e-01],\n",
       "        [ 1.54245582e-01, -2.36113527e-01,  6.27208358e-01],\n",
       "        [ 1.67355575e-01, -2.32453799e-01,  6.17484774e-01],\n",
       "        [ 1.80343182e-01, -2.28828233e-01,  6.07851970e-01],\n",
       "        [ 1.93209544e-01, -2.25236511e-01,  5.98309099e-01],\n",
       "        [ 2.05955793e-01, -2.21678316e-01,  5.88855322e-01],\n",
       "        [ 2.18583051e-01, -2.18153335e-01,  5.79489807e-01],\n",
       "        [ 2.31092429e-01, -2.14661259e-01,  5.70211730e-01],\n",
       "        [ 2.43485027e-01, -2.11201778e-01,  5.61020275e-01],\n",
       "        [ 2.55761936e-01, -2.07774590e-01,  5.51914633e-01],\n",
       "        [ 2.67924235e-01, -2.04379392e-01,  5.42894003e-01],\n",
       "        [ 2.79972994e-01, -2.01015886e-01,  5.33957591e-01],\n",
       "        [ 2.91909273e-01, -1.97683775e-01,  5.25104612e-01],\n",
       "        [ 3.03734123e-01, -1.94382766e-01,  5.16334286e-01],\n",
       "        [ 3.15448583e-01, -1.91112570e-01,  5.07645842e-01],\n",
       "        [ 3.27053684e-01, -1.87872898e-01,  4.99038515e-01],\n",
       "        [ 3.38550447e-01, -1.84663466e-01,  4.90511548e-01],\n",
       "        [ 3.49939883e-01, -1.81483990e-01,  4.82064190e-01],\n",
       "        [ 3.61222993e-01, -1.78334192e-01,  4.73695698e-01],\n",
       "        [ 3.72400772e-01, -1.75213795e-01,  4.65405336e-01],\n",
       "        [ 3.83474201e-01, -1.72122523e-01,  4.57192375e-01],\n",
       "        [ 3.94444256e-01, -1.69060106e-01,  4.49056090e-01],\n",
       "        [ 4.05311900e-01, -1.66026274e-01,  4.40995768e-01],\n",
       "        [ 4.16078090e-01, -1.63020760e-01,  4.33010698e-01],\n",
       "        [ 4.26743773e-01, -1.60043300e-01,  4.25100178e-01],\n",
       "        [ 4.37309888e-01, -1.57093632e-01,  4.17263511e-01],\n",
       "        [ 4.47777363e-01, -1.54171498e-01,  4.09500009e-01],\n",
       "        [ 4.58147120e-01, -1.51276639e-01,  4.01808987e-01],\n",
       "        [ 4.68420070e-01, -1.48408801e-01,  3.94189769e-01],\n",
       "        [ 4.78597118e-01, -1.45567734e-01,  3.86641685e-01],\n",
       "        [ 4.88679159e-01, -1.42753185e-01,  3.79164070e-01],\n",
       "        [ 4.98667079e-01, -1.39964909e-01,  3.71756267e-01],\n",
       "        [ 5.08561757e-01, -1.37202660e-01,  3.64417624e-01],\n",
       "        [ 5.18364064e-01, -1.34466195e-01,  3.57147494e-01],\n",
       "        [ 5.28074862e-01, -1.31755274e-01,  3.49945238e-01],\n",
       "        [ 5.37695005e-01, -1.29069658e-01,  3.42810222e-01],\n",
       "        [ 5.47225340e-01, -1.26409111e-01,  3.35741819e-01],\n",
       "        [ 5.56666704e-01, -1.23773400e-01,  3.28739407e-01],\n",
       "        [ 5.66019929e-01, -1.21162292e-01,  3.21802369e-01],\n",
       "        [ 5.75285837e-01, -1.18575559e-01,  3.14930095e-01],\n",
       "        [ 5.84465243e-01, -1.16012971e-01,  3.08121980e-01],\n",
       "        [ 5.93558955e-01, -1.13474305e-01,  3.01377425e-01],\n",
       "        [ 6.02567773e-01, -1.10959338e-01,  2.94695837e-01],\n",
       "        [ 6.11492489e-01, -1.08467847e-01,  2.88076627e-01],\n",
       "        [ 6.20333889e-01, -1.05999613e-01,  2.81519214e-01],\n",
       "        [ 6.29092749e-01, -1.03554421e-01,  2.75023021e-01],\n",
       "        [ 6.37769842e-01, -1.01132055e-01,  2.68587475e-01],\n",
       "        [ 6.46365929e-01, -9.87323007e-02,  2.62212010e-01],\n",
       "        [ 6.54881767e-01, -9.63549486e-02,  2.55896067e-01],\n",
       "        [ 6.63318106e-01, -9.39997891e-02,  2.49639088e-01],\n",
       "        [ 6.71675687e-01, -9.16666152e-02,  2.43440523e-01],\n",
       "        [ 6.79955247e-01, -8.93552217e-02,  2.37299828e-01],\n",
       "        [ 6.88157512e-01, -8.70654053e-02,  2.31216461e-01],\n",
       "        [ 6.96283205e-01, -8.47969646e-02,  2.25189887e-01],\n",
       "        [ 7.04333040e-01, -8.25497002e-02,  2.19219577e-01],\n",
       "        [ 7.12307726e-01, -8.03234144e-02,  2.13305004e-01],\n",
       "        [ 7.20207964e-01, -7.81179114e-02,  2.07445649e-01],\n",
       "        [ 7.28034449e-01, -7.59329972e-02,  2.01640996e-01],\n",
       "        [ 7.35787870e-01, -7.37684798e-02,  1.95890533e-01],\n",
       "        [ 7.43468909e-01, -7.16241686e-02,  1.90193756e-01],\n",
       "        [ 7.51078241e-01, -6.94998751e-02,  1.84550163e-01],\n",
       "        [ 7.58616536e-01, -6.73954125e-02,  1.78959258e-01],\n",
       "        [ 7.66084457e-01, -6.53105957e-02,  1.73420548e-01],\n",
       "        [ 7.73482661e-01, -6.32452412e-02,  1.67933546e-01],\n",
       "        [ 7.80811799e-01, -6.11991674e-02,  1.62497769e-01],\n",
       "        [ 7.88072515e-01, -5.91721944e-02,  1.57112740e-01],\n",
       "        [ 7.95265449e-01, -5.71641438e-02,  1.51777985e-01],\n",
       "        [ 8.02391233e-01, -5.51748391e-02,  1.46493033e-01],\n",
       "        [ 8.09450494e-01, -5.32041052e-02,  1.41257421e-01],\n",
       "        [ 8.16443852e-01, -5.12517688e-02,  1.36070686e-01],\n",
       "        [ 8.23371925e-01, -4.93176582e-02,  1.30932375e-01],\n",
       "        [ 8.30235319e-01, -4.74016033e-02,  1.25842033e-01],\n",
       "        [ 8.37034641e-01, -4.55034355e-02,  1.20799213e-01],\n",
       "        [ 8.43770487e-01, -4.36229878e-02,  1.15803472e-01],\n",
       "        [ 8.50443450e-01, -4.17600948e-02,  1.10854370e-01],\n",
       "        [ 8.57054117e-01, -3.99145928e-02,  1.05951471e-01],\n",
       "        [ 8.63603070e-01, -3.80863193e-02,  1.01094344e-01],\n",
       "        [ 8.70090886e-01, -3.62751135e-02,  9.62825628e-02],\n",
       "        [ 8.76518133e-01, -3.44808160e-02,  9.15157027e-02],\n",
       "        [ 8.82885379e-01, -3.27032692e-02,  8.67933448e-02],\n",
       "        [ 8.89193183e-01, -3.09423165e-02,  8.21150735e-02],\n",
       "        [ 8.95442101e-01, -2.91978031e-02,  7.74804772e-02],\n",
       "        [ 9.01632681e-01, -2.74695756e-02,  7.28891483e-02],\n",
       "        [ 9.07765469e-01, -2.57574819e-02,  6.83406827e-02],\n",
       "        [ 9.13841004e-01, -2.40613714e-02,  6.38346803e-02],\n",
       "        [ 9.19859820e-01, -2.23810948e-02,  5.93707447e-02],\n",
       "        [ 9.25822447e-01, -2.07165045e-02,  5.49484831e-02],\n",
       "        [ 9.31729410e-01, -1.90674539e-02,  5.05675065e-02],\n",
       "        [ 9.37581228e-01, -1.74337980e-02,  4.62274294e-02],\n",
       "        [ 9.43378416e-01, -1.58153931e-02,  4.19278699e-02],\n",
       "        [ 9.49121484e-01, -1.42120967e-02,  3.76684499e-02],\n",
       "        [ 9.54810938e-01, -1.26237680e-02,  3.34487945e-02],\n",
       "        [ 9.60447277e-01, -1.10502671e-02,  2.92685326e-02],\n",
       "        [ 9.66030998e-01, -9.49145555e-03,  2.51272964e-02],\n",
       "        [ 9.71562591e-01, -7.94719633e-03,  2.10247214e-02],\n",
       "        [ 9.77042544e-01, -6.41735354e-03,  1.69604468e-02],\n",
       "        [ 9.82471339e-01, -4.90179259e-03,  1.29341150e-02],\n",
       "        [ 9.87849453e-01, -3.40038014e-03,  8.94537163e-03],\n",
       "        [ 9.93177360e-01, -1.91298408e-03,  4.99386565e-03],\n",
       "        [ 9.98455529e-01, -4.39473297e-04,  1.07924840e-03],\n",
       "        [ 9.99976967e-01, -1.47322918e-05, -4.91440733e-05]])]"
      ]
     },
     "execution_count": 657,
     "metadata": {},
     "output_type": "execute_result"
    }
   ],
   "source": []
  },
  {
   "cell_type": "code",
   "execution_count": 662,
   "metadata": {},
   "outputs": [
    {
     "data": {
      "text/plain": [
       "False"
      ]
     },
     "execution_count": 662,
     "metadata": {},
     "output_type": "execute_result"
    }
   ],
   "source": [
    "np.isclose(1,2)"
   ]
  },
  {
   "cell_type": "code",
   "execution_count": null,
   "metadata": {},
   "outputs": [],
   "source": []
  }
 ],
 "metadata": {
  "kernelspec": {
   "display_name": "py36",
   "language": "python",
   "name": "py36"
  },
  "language_info": {
   "codemirror_mode": {
    "name": "ipython",
    "version": 3
   },
   "file_extension": ".py",
   "mimetype": "text/x-python",
   "name": "python",
   "nbconvert_exporter": "python",
   "pygments_lexer": "ipython3",
   "version": "3.6.7"
  }
 },
 "nbformat": 4,
 "nbformat_minor": 2
}
