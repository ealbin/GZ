{
 "cells": [
  {
   "cell_type": "code",
   "execution_count": 1,
   "metadata": {},
   "outputs": [],
   "source": [
    "# python libraries\n",
    "import numpy as np\n",
    "from scipy.integrate import ode\n",
    "import matplotlib.pyplot as plt\n",
    "from mpl_toolkits.mplot3d import Axes3D"
   ]
  },
  {
   "cell_type": "code",
   "execution_count": 2,
   "metadata": {},
   "outputs": [],
   "source": [
    "# magic\n",
    "%matplotlib inline\n",
    "%load_ext autoreload\n",
    "%autoreload 2"
   ]
  },
  {
   "cell_type": "code",
   "execution_count": 3,
   "metadata": {},
   "outputs": [],
   "source": [
    "# hacks\n",
    "import os\n",
    "import sys\n",
    "nb_dir = os.path.split(os.path.abspath(os.getcwd()))[0]\n",
    "if nb_dir not in sys.path:\n",
    "    sys.path.append(nb_dir)"
   ]
  },
  {
   "cell_type": "markdown",
   "metadata": {},
   "source": [
    "### Test Files:"
   ]
  },
  {
   "cell_type": "code",
   "execution_count": 4,
   "metadata": {},
   "outputs": [],
   "source": [
    "# test files\n",
    "import Dynamics"
   ]
  },
  {
   "cell_type": "markdown",
   "metadata": {},
   "source": [
    "### Convienent Locations:"
   ]
  },
  {
   "cell_type": "code",
   "execution_count": 5,
   "metadata": {},
   "outputs": [],
   "source": [
    "cartesian_Earth = np.array([1,0,0]) # [AU]\n",
    "cartesian_Sun   = np.array([0,0,0]) # [AU]"
   ]
  },
  {
   "cell_type": "markdown",
   "metadata": {},
   "source": [
    "### Convienent Directions:"
   ]
  },
  {
   "cell_type": "code",
   "execution_count": 6,
   "metadata": {},
   "outputs": [],
   "source": [
    "cartesian_fromSun = np.array([1,0,0])\n",
    "cartesian_toSun   = np.array([-1,0,0])\n",
    "cartesian_right   = np.array([0,1,0])\n",
    "cartesian_left    = np.array([0,-1,0])\n",
    "cartesian_up      = np.array([0,0,1])\n",
    "cartesian_down    = np.array([0,0,-1])"
   ]
  },
  {
   "cell_type": "markdown",
   "metadata": {},
   "source": [
    "### Convienent Zs:"
   ]
  },
  {
   "cell_type": "code",
   "execution_count": 7,
   "metadata": {},
   "outputs": [],
   "source": [
    "Z_neutron  = 0\n",
    "Z_proton   = 1\n",
    "Z_deuteron = 1\n",
    "Z_alpha    = 2\n",
    "Z_helium   = 4\n",
    "Z_carbon   = 6\n",
    "Z_nitrogen = 7\n",
    "Z_oxygen   = 8\n",
    "Z_neon     = 10\n",
    "Z_argon    = 18\n",
    "Z_iron     = 26\n",
    "Z_krypton  = 36\n",
    "Z_xenon    = 54\n",
    "Z_uranium  = 92"
   ]
  },
  {
   "cell_type": "markdown",
   "metadata": {},
   "source": [
    "# Trajectory"
   ]
  },
  {
   "cell_type": "code",
   "execution_count": 30,
   "metadata": {},
   "outputs": [],
   "source": [
    "import Dynamics"
   ]
  },
  {
   "cell_type": "code",
   "execution_count": 38,
   "metadata": {},
   "outputs": [],
   "source": [
    "def solveTrajectory(cartesian_pos, cartesian_beta, Z, E):\n",
    "    \"\"\"Calcuates the trajectory of nuclei Z with energy E.\n",
    "    Assumes ultra-relativistic nuclei with beta > 0.999990 ~= 1.\n",
    "    returns an array of cartesian positions describing the path solved.\n",
    "    \"\"\"\n",
    "    initial_s    = 0.\n",
    "    initial_pos  = np.array(cartesian_pos)\n",
    "    initial_beta = np.array(cartesian_beta)\n",
    "    ratio = Z / float(E)\n",
    "\n",
    "    # enforce special relativity:\n",
    "    initial_beta = initial_beta / np.sqrt( np.dot(initial_beta, initial_beta) )\n",
    "    initial_conditions = np.concatenate(( initial_pos, initial_beta ))\n",
    "    \n",
    "    ### TODO: try different integrators\n",
    "    integrator = ode(Dynamics.applyForces).set_integrator('dopri5', nsteps=10000)\n",
    "    integrator.set_initial_value(initial_conditions, initial_s).set_f_params(ratio)\n",
    "\n",
    "    AU2m = 149597870700. # use:  number [AU] * AU2m = converted number [m]\n",
    "    final_s = 5          # track particle for 5 AU\n",
    "    ds = 1e-3            # numerical stepsize, ds distance (in meters)\n",
    "    positions = []\n",
    "    iterations = 0\n",
    "    limit = 100000000\n",
    "    while (integrator.successful() and integrator.t < final_s) and (iterations < limit):\n",
    "        integrator.integrate( integrator.t + ds ) # because \"dt\" is \"ds\" in this context\n",
    "        positions.append(integrator.y[:3])\n",
    "        iterations += 1\n",
    "    print integrator.get_return_code()\n",
    "    return np.array(positions)"
   ]
  },
  {
   "cell_type": "code",
   "execution_count": null,
   "metadata": {},
   "outputs": [],
   "source": [
    "positions = solveTrajectory(cartesian_Earth, cartesian_toSun, Z_uranium, 2e-18)\n",
    "fig = plt.figure()\n",
    "ax = fig.add_subplot(111, projection='3d')\n",
    "ax.plot3D(positions[:,0], positions[:,1], positions[:,2])"
   ]
  },
  {
   "cell_type": "code",
   "execution_count": null,
   "metadata": {},
   "outputs": [],
   "source": []
  }
 ],
 "metadata": {
  "kernelspec": {
   "display_name": "Python 2",
   "language": "python",
   "name": "python2"
  },
  "language_info": {
   "codemirror_mode": {
    "name": "ipython",
    "version": 2
   },
   "file_extension": ".py",
   "mimetype": "text/x-python",
   "name": "python",
   "nbconvert_exporter": "python",
   "pygments_lexer": "ipython2",
   "version": "2.7.15"
  }
 },
 "nbformat": 4,
 "nbformat_minor": 2
}
