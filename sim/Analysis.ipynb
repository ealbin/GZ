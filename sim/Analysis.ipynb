{
 "cells": [
  {
   "cell_type": "code",
   "execution_count": 1,
   "metadata": {},
   "outputs": [],
   "source": [
    "# python libraries\n",
    "import numpy as np"
   ]
  },
  {
   "cell_type": "code",
   "execution_count": 2,
   "metadata": {},
   "outputs": [],
   "source": [
    "# magic\n",
    "%matplotlib inline\n",
    "%load_ext autoreload\n",
    "%autoreload 2"
   ]
  },
  {
   "cell_type": "code",
   "execution_count": 8,
   "metadata": {},
   "outputs": [],
   "source": [
    "# hacks\n",
    "import os\n",
    "import sys\n",
    "nb_dir = os.path.join( os.path.split(os.path.abspath(os.getcwd()))[0], 'python' )\n",
    "if nb_dir not in sys.path:\n",
    "    sys.path.append(nb_dir)"
   ]
  },
  {
   "cell_type": "markdown",
   "metadata": {},
   "source": [
    "### Tools:"
   ]
  },
  {
   "cell_type": "code",
   "execution_count": 12,
   "metadata": {},
   "outputs": [],
   "source": [
    "import File\n",
    "import Solve"
   ]
  },
  {
   "cell_type": "markdown",
   "metadata": {},
   "source": [
    "### Convienent Zs:"
   ]
  },
  {
   "cell_type": "code",
   "execution_count": 11,
   "metadata": {},
   "outputs": [],
   "source": [
    "Z_neutron  = 0\n",
    "Z_proton   = 1\n",
    "Z_deuteron = 1\n",
    "Z_alpha    = 2\n",
    "Z_helium   = 4\n",
    "Z_carbon   = 6\n",
    "Z_nitrogen = 7\n",
    "Z_oxygen   = 8\n",
    "Z_neon     = 10\n",
    "Z_argon    = 18\n",
    "Z_iron     = 26\n",
    "Z_krypton  = 36\n",
    "Z_xenon    = 54\n",
    "Z_uranium  = 92"
   ]
  },
  {
   "cell_type": "markdown",
   "metadata": {},
   "source": [
    "### physical constants / conversions"
   ]
  },
  {
   "cell_type": "code",
   "execution_count": 15,
   "metadata": {},
   "outputs": [],
   "source": [
    "m_per_AU = 149597870700. # unit conversion [meters / astronomical unit]\n",
    "Rs   = 695508000.        # radius of the Sun [meters]\n",
    "RsAU = Rs / m_per_AU     # radius of the Sun [AU]\n",
    "Re   = 6378100.          # radius of Earth [meters]\n",
    "ReAU = Re / m_per_AU     # radius of Earth [AU]"
   ]
  },
  {
   "cell_type": "markdown",
   "metadata": {},
   "source": [
    "### sample read"
   ]
  },
  {
   "cell_type": "code",
   "execution_count": 14,
   "metadata": {},
   "outputs": [
    {
     "data": {
      "text/plain": [
       "{'E': 2e+18,\n",
       " 'Z': 0,\n",
       " 'algorithm': 'vode',\n",
       " 'dbeta': 0.0,\n",
       " 'exit': 'near-earth',\n",
       " 'fin_beta': array([0.95924059, 0.        , 0.28259067]),\n",
       " 'fin_pos': array([ 9.99918441e-01,  0.00000000e+00, -2.40271047e-05]),\n",
       " 'from': '/beegfs/DATA/atlas/ealbin/GZ/energy_2e18/radius_0.5/theta_108_phi_0_Z_0.dat',\n",
       " 'init_beta': array([0.95924059, 0.        , 0.28259067]),\n",
       " 'init_pos': array([ 0.47552826,  0.        , -0.1545085 ]),\n",
       " 'name': 'energy_2e18/radius_0.5/theta_108_phi_0_Z_0.dat',\n",
       " 'status': 'successful',\n",
       " 'stepsize': 100000.0,\n",
       " 'system': \"04 CEST 2016', 'x86_64', 'x86_64')\",\n",
       " 'time': 78.3281719685}"
      ]
     },
     "execution_count": 14,
     "metadata": {},
     "output_type": "execute_result"
    }
   ],
   "source": [
    "File.readEssentials('energy_2e18/radius_0.5/theta_108_phi_0_Z_0.dat')"
   ]
  },
  {
   "cell_type": "markdown",
   "metadata": {},
   "source": [
    "### simulations available"
   ]
  },
  {
   "cell_type": "code",
   "execution_count": 24,
   "metadata": {},
   "outputs": [
    {
     "name": "stdout",
     "output_type": "stream",
     "text": [
      " Volume in drive C is Windows\n",
      " Volume Serial Number is 361D-A6A7\n",
      "\n",
      " Directory of C:\\Users\\EricK\\crayfis\\GZ\\sim\\energy_20e18\\radius_3.0\n",
      "\n",
      "2018-06-15  01:47 PM    <DIR>          .\n",
      "2018-06-15  01:47 PM    <DIR>          ..\n",
      "2018-06-15  01:47 PM               460 theta_108_phi_0_Z_0.dat\n",
      "2018-06-15  01:47 PM               476 theta_108_phi_0_Z_1.dat\n",
      "2018-06-15  01:47 PM               490 theta_108_phi_0_Z_2.dat\n",
      "2018-06-15  01:47 PM               490 theta_108_phi_0_Z_26.dat\n",
      "2018-06-15  01:47 PM               486 theta_108_phi_0_Z_8.dat\n",
      "2018-06-15  01:47 PM               491 theta_108_phi_0_Z_92.dat\n",
      "2018-06-15  01:47 PM               508 theta_108_phi_180_Z_0.dat\n",
      "2018-06-15  01:47 PM               519 theta_108_phi_180_Z_1.dat\n",
      "2018-06-15  01:47 PM               520 theta_108_phi_180_Z_2.dat\n",
      "2018-06-15  01:47 PM               523 theta_108_phi_180_Z_26.dat\n",
      "2018-06-15  01:47 PM               520 theta_108_phi_180_Z_8.dat\n",
      "2018-06-15  01:47 PM               521 theta_108_phi_180_Z_92.dat\n",
      "2018-06-15  01:47 PM               501 theta_108_phi_270_Z_0.dat\n",
      "2018-06-15  01:47 PM               514 theta_108_phi_270_Z_1.dat\n",
      "2018-06-15  01:47 PM               515 theta_108_phi_270_Z_2.dat\n",
      "2018-06-15  01:47 PM               517 theta_108_phi_270_Z_26.dat\n",
      "2018-06-15  01:47 PM               515 theta_108_phi_270_Z_8.dat\n",
      "2018-06-15  01:47 PM               516 theta_108_phi_270_Z_92.dat\n",
      "2018-06-15  01:47 PM               500 theta_108_phi_90_Z_0.dat\n",
      "2018-06-15  01:47 PM               498 theta_108_phi_90_Z_1.dat\n",
      "2018-06-15  01:47 PM               498 theta_108_phi_90_Z_2.dat\n",
      "2018-06-15  01:47 PM               515 theta_108_phi_90_Z_26.dat\n",
      "2018-06-15  01:47 PM               513 theta_108_phi_90_Z_8.dat\n",
      "2018-06-15  01:47 PM               515 theta_108_phi_90_Z_92.dat\n",
      "2018-06-15  01:47 PM               447 theta_144_phi_0_Z_0.dat\n",
      "2018-06-15  01:47 PM               488 theta_144_phi_0_Z_1.dat\n",
      "2018-06-15  01:47 PM               488 theta_144_phi_0_Z_2.dat\n",
      "2018-06-15  01:47 PM               491 theta_144_phi_0_Z_26.dat\n",
      "2018-06-15  01:47 PM               489 theta_144_phi_0_Z_8.dat\n",
      "2018-06-15  01:47 PM               491 theta_144_phi_0_Z_92.dat\n",
      "2018-06-15  01:47 PM               506 theta_144_phi_180_Z_0.dat\n",
      "2018-06-15  01:47 PM               520 theta_144_phi_180_Z_1.dat\n",
      "2018-06-15  01:47 PM               519 theta_144_phi_180_Z_2.dat\n",
      "2018-06-15  01:47 PM               521 theta_144_phi_180_Z_26.dat\n",
      "2018-06-15  01:47 PM               519 theta_144_phi_180_Z_8.dat\n",
      "2018-06-15  01:47 PM               522 theta_144_phi_180_Z_92.dat\n",
      "2018-06-15  01:47 PM               500 theta_144_phi_270_Z_0.dat\n",
      "2018-06-15  01:47 PM               500 theta_144_phi_270_Z_1.dat\n",
      "2018-06-15  01:47 PM               514 theta_144_phi_270_Z_2.dat\n",
      "2018-06-15  01:47 PM               517 theta_144_phi_270_Z_26.dat\n",
      "2018-06-15  01:47 PM               515 theta_144_phi_270_Z_8.dat\n",
      "2018-06-15  01:47 PM               515 theta_144_phi_270_Z_92.dat\n",
      "2018-06-15  01:47 PM               499 theta_144_phi_90_Z_0.dat\n",
      "2018-06-15  01:47 PM               498 theta_144_phi_90_Z_1.dat\n",
      "2018-06-15  01:47 PM               512 theta_144_phi_90_Z_2.dat\n",
      "2018-06-15  01:47 PM               515 theta_144_phi_90_Z_26.dat\n",
      "2018-06-15  01:47 PM               513 theta_144_phi_90_Z_8.dat\n",
      "2018-06-15  01:47 PM               515 theta_144_phi_90_Z_92.dat\n",
      "2018-06-15  01:47 PM               446 theta_36_phi_0_Z_0.dat\n",
      "2018-06-15  01:47 PM               487 theta_36_phi_0_Z_1.dat\n",
      "2018-06-15  01:47 PM               486 theta_36_phi_0_Z_2.dat\n",
      "2018-06-15  01:47 PM               490 theta_36_phi_0_Z_26.dat\n",
      "2018-06-15  01:47 PM               488 theta_36_phi_0_Z_8.dat\n",
      "2018-06-15  01:47 PM               490 theta_36_phi_0_Z_92.dat\n",
      "2018-06-15  01:47 PM               505 theta_36_phi_180_Z_0.dat\n",
      "2018-06-15  01:47 PM               517 theta_36_phi_180_Z_1.dat\n",
      "2018-06-15  01:47 PM               519 theta_36_phi_180_Z_2.dat\n",
      "2018-06-15  01:47 PM               521 theta_36_phi_180_Z_26.dat\n",
      "2018-06-15  01:47 PM               519 theta_36_phi_180_Z_8.dat\n",
      "2018-06-15  01:47 PM               520 theta_36_phi_180_Z_92.dat\n",
      "2018-06-15  01:47 PM               500 theta_36_phi_270_Z_0.dat\n",
      "2018-06-15  01:47 PM               499 theta_36_phi_270_Z_1.dat\n",
      "2018-06-15  01:47 PM               513 theta_36_phi_270_Z_2.dat\n",
      "2018-06-15  01:47 PM               516 theta_36_phi_270_Z_26.dat\n",
      "2018-06-15  01:47 PM               512 theta_36_phi_270_Z_8.dat\n",
      "2018-06-15  01:47 PM               514 theta_36_phi_270_Z_92.dat\n",
      "2018-06-15  01:47 PM               498 theta_36_phi_90_Z_0.dat\n",
      "2018-06-15  01:47 PM               496 theta_36_phi_90_Z_1.dat\n",
      "2018-06-15  01:47 PM               511 theta_36_phi_90_Z_2.dat\n",
      "2018-06-15  01:47 PM               514 theta_36_phi_90_Z_26.dat\n",
      "2018-06-15  01:47 PM               512 theta_36_phi_90_Z_8.dat\n",
      "2018-06-15  01:47 PM               514 theta_36_phi_90_Z_92.dat\n",
      "2018-06-15  01:47 PM               460 theta_72_phi_0_Z_0.dat\n",
      "2018-06-15  01:47 PM               475 theta_72_phi_0_Z_1.dat\n",
      "2018-06-15  01:47 PM               488 theta_72_phi_0_Z_2.dat\n",
      "2018-06-15  01:47 PM               490 theta_72_phi_0_Z_26.dat\n",
      "2018-06-15  01:47 PM               485 theta_72_phi_0_Z_8.dat\n",
      "2018-06-15  01:47 PM               489 theta_72_phi_0_Z_92.dat\n",
      "2018-06-15  01:47 PM               507 theta_72_phi_180_Z_0.dat\n",
      "2018-06-15  01:47 PM               519 theta_72_phi_180_Z_1.dat\n",
      "2018-06-15  01:47 PM               520 theta_72_phi_180_Z_2.dat\n",
      "2018-06-15  01:47 PM               520 theta_72_phi_180_Z_26.dat\n",
      "2018-06-15  01:47 PM               519 theta_72_phi_180_Z_8.dat\n",
      "2018-06-15  01:47 PM               520 theta_72_phi_180_Z_92.dat\n",
      "2018-06-15  01:47 PM               499 theta_72_phi_270_Z_0.dat\n",
      "2018-06-15  01:47 PM               512 theta_72_phi_270_Z_1.dat\n",
      "2018-06-15  01:47 PM               514 theta_72_phi_270_Z_2.dat\n",
      "2018-06-15  01:47 PM               516 theta_72_phi_270_Z_26.dat\n",
      "2018-06-15  01:47 PM               513 theta_72_phi_270_Z_8.dat\n",
      "2018-06-15  01:47 PM               515 theta_72_phi_270_Z_92.dat\n",
      "2018-06-15  01:47 PM               499 theta_72_phi_90_Z_0.dat\n",
      "2018-06-15  01:47 PM               511 theta_72_phi_90_Z_1.dat\n",
      "2018-06-15  01:47 PM               497 theta_72_phi_90_Z_2.dat\n",
      "2018-06-15  01:47 PM               515 theta_72_phi_90_Z_26.dat\n",
      "2018-06-15  01:47 PM               512 theta_72_phi_90_Z_8.dat\n",
      "2018-06-15  01:47 PM               513 theta_72_phi_90_Z_92.dat\n",
      "              96 File(s)         48,430 bytes\n",
      "               2 Dir(s)  177,099,890,688 bytes free\n"
     ]
    }
   ],
   "source": [
    "ls \"energy_20e18/radius_3.0/\""
   ]
  },
  {
   "cell_type": "markdown",
   "metadata": {},
   "source": [
    "# Print Last Position"
   ]
  },
  {
   "cell_type": "code",
   "execution_count": 271,
   "metadata": {},
   "outputs": [],
   "source": [
    "def printResult(fpath, species='', header=False):\n",
    "    if header:\n",
    "        print 'x [AU]\\t\\ty [km]\\t\\tz [earth-radii]\\t\\tspecies\\t\\ttime[sec]\\tproximity\\tintegration'\n",
    "        print '-------------------------------------------------------------------------------------------------------------------'\n",
    "    essentials = File.readEssentials(fpath)\n",
    "    time = essentials['time']\n",
    "    exit = essentials['exit']\n",
    "    status = essentials['status']\n",
    "    x, y, z = essentials['fin_pos'] / np.array([ 1., 1000./m_per_AU, ReAU ])\n",
    "    print '{:6.5}\\t\\t{:8.8}\\t\\t{:6.4}\\t\\t{}\\t\\t{:.4}\\t\\t{}\\t{}'.format(x, y, z, species, time, exit, status)\n"
   ]
  },
  {
   "cell_type": "markdown",
   "metadata": {},
   "source": [
    "# Radius=3 AU, Theta=36 deg, Phi=0 deg"
   ]
  },
  {
   "cell_type": "code",
   "execution_count": 272,
   "metadata": {},
   "outputs": [],
   "source": [
    "radius=3\n",
    "theta=36\n",
    "phi=0"
   ]
  },
  {
   "cell_type": "code",
   "execution_count": 273,
   "metadata": {},
   "outputs": [
    {
     "name": "stdout",
     "output_type": "stream",
     "text": [
      "Energy=2e+20 [eV], radius=3 [AU], theta=36 [deg], phi=0 [deg]\n",
      "\n",
      "x [AU]\t\ty [km]\t\tz [earth-radii]\t\tspecies\t\ttime[sec]\tproximity\tintegration\n",
      "-------------------------------------------------------------------------------------------------------------------\n",
      "   1.0\t\t     0.0\t\t 1.906\t\tneutron\t\t300.6\t\tnear-earth\tsuccessful\n",
      "   1.0\t\t0.071228491\t\t 1.906\t\tproton\t\t300.3\t\tnear-earth\tsuccessful\n",
      "   1.0\t\t1.7723658\t\t 1.906\t\tiron\t\t296.5\t\tnear-earth\tsuccessful\n",
      "   1.0\t\t6.2515608\t\t 1.905\t\turanium\t\t301.7\t\tnear-earth\tsuccessful\n"
     ]
    }
   ],
   "source": [
    "energy=200e18\n",
    "\n",
    "neutron = File.select('.', energy_range=energy, radius_range=radius, theta_range=theta, phi_range=phi, Z_range=Z_neutron)[0]\n",
    "proton  = File.select('.', energy_range=energy, radius_range=radius, theta_range=theta, phi_range=phi, Z_range=Z_proton)[0]\n",
    "iron    = File.select('.', energy_range=energy, radius_range=radius, theta_range=theta, phi_range=phi, Z_range=Z_iron)[0]\n",
    "uranium = File.select('.', energy_range=energy, radius_range=radius, theta_range=theta, phi_range=phi, Z_range=Z_uranium)[0]\n",
    "\n",
    "print 'Energy={} [eV], radius={} [AU], theta={} [deg], phi={} [deg]'.format(energy, radius, theta, phi)\n",
    "print\n",
    "printResult(neutron, species='neutron', header=True)\n",
    "printResult(proton,  species='proton')\n",
    "printResult(iron,    species='iron')\n",
    "printResult(uranium, species='uranium')"
   ]
  },
  {
   "cell_type": "code",
   "execution_count": 274,
   "metadata": {},
   "outputs": [
    {
     "name": "stdout",
     "output_type": "stream",
     "text": [
      "Energy=2e+19 [eV], radius=3 [AU], theta=36 [deg], phi=0 [deg]\n",
      "\n",
      "x [AU]\t\ty [km]\t\tz [earth-radii]\t\tspecies\t\ttime[sec]\tproximity\tintegration\n",
      "-------------------------------------------------------------------------------------------------------------------\n",
      "   1.0\t\t     0.0\t\t 1.906\t\tneutron\t\t295.3\t\tnear-earth\tsuccessful\n",
      "   1.0\t\t0.68346538\t\t 1.906\t\tproton\t\t312.5\t\tnear-earth\tsuccessful\n",
      "   1.0\t\t17.662241\t\t 1.903\t\tiron\t\t301.1\t\tnear-earth\tsuccessful\n",
      "   1.0\t\t62.477605\t\t 1.895\t\turanium\t\t318.2\t\tnear-earth\tsuccessful\n"
     ]
    }
   ],
   "source": [
    "energy=20e18\n",
    "\n",
    "neutron = File.select('.', energy_range=energy, radius_range=radius, theta_range=theta, phi_range=phi, Z_range=Z_neutron)[0]\n",
    "proton  = File.select('.', energy_range=energy, radius_range=radius, theta_range=theta, phi_range=phi, Z_range=Z_proton)[0]\n",
    "iron    = File.select('.', energy_range=energy, radius_range=radius, theta_range=theta, phi_range=phi, Z_range=Z_iron)[0]\n",
    "uranium = File.select('.', energy_range=energy, radius_range=radius, theta_range=theta, phi_range=phi, Z_range=Z_uranium)[0]\n",
    "\n",
    "print 'Energy={} [eV], radius={} [AU], theta={} [deg], phi={} [deg]'.format(energy, radius, theta, phi)\n",
    "print\n",
    "printResult(neutron, species='neutron', header=True)\n",
    "printResult(proton,  species='proton')\n",
    "printResult(iron,    species='iron')\n",
    "printResult(uranium, species='uranium')"
   ]
  },
  {
   "cell_type": "code",
   "execution_count": 275,
   "metadata": {},
   "outputs": [
    {
     "name": "stdout",
     "output_type": "stream",
     "text": [
      "Energy=2e+18 [eV], radius=3 [AU], theta=36 [deg], phi=0 [deg]\n",
      "\n",
      "x [AU]\t\ty [km]\t\tz [earth-radii]\t\tspecies\t\ttime[sec]\tproximity\tintegration\n",
      "-------------------------------------------------------------------------------------------------------------------\n",
      "   1.0\t\t     0.0\t\t 1.906\t\tneutron\t\t297.6\t\tnear-earth\tsuccessful\n",
      "   1.0\t\t6.7964958\t\t 1.905\t\tproton\t\t293.4\t\tnear-earth\tsuccessful\n",
      "   1.0\t\t176.56568\t\t  1.86\t\tiron\t\t299.6\t\tnear-earth\tsuccessful\n",
      "   1.0\t\t624.75469\t\t 1.751\t\turanium\t\t302.0\t\tnear-earth\tsuccessful\n"
     ]
    }
   ],
   "source": [
    "energy=2e18\n",
    "\n",
    "neutron = File.select('.', energy_range=energy, radius_range=radius, theta_range=theta, phi_range=phi, Z_range=Z_neutron)[0]\n",
    "proton  = File.select('.', energy_range=energy, radius_range=radius, theta_range=theta, phi_range=phi, Z_range=Z_proton)[0]\n",
    "iron    = File.select('.', energy_range=energy, radius_range=radius, theta_range=theta, phi_range=phi, Z_range=Z_iron)[0]\n",
    "uranium = File.select('.', energy_range=energy, radius_range=radius, theta_range=theta, phi_range=phi, Z_range=Z_uranium)[0]\n",
    "\n",
    "print 'Energy={} [eV], radius={} [AU], theta={} [deg], phi={} [deg]'.format(energy, radius, theta, phi)\n",
    "print\n",
    "printResult(neutron, species='neutron', header=True)\n",
    "printResult(proton,  species='proton')\n",
    "printResult(iron,    species='iron')\n",
    "printResult(uranium, species='uranium')"
   ]
  },
  {
   "cell_type": "markdown",
   "metadata": {},
   "source": [
    "### Observation:  final deviation scales with Z / E"
   ]
  },
  {
   "cell_type": "markdown",
   "metadata": {},
   "source": [
    "# Radius=3 AU, Theta=36 deg, Phi=180 deg"
   ]
  },
  {
   "cell_type": "code",
   "execution_count": 276,
   "metadata": {},
   "outputs": [],
   "source": [
    "radius=3\n",
    "theta=36\n",
    "phi=180"
   ]
  },
  {
   "cell_type": "code",
   "execution_count": 277,
   "metadata": {
    "scrolled": true
   },
   "outputs": [
    {
     "name": "stdout",
     "output_type": "stream",
     "text": [
      "Energy=2e+20 [eV], radius=3 [AU], theta=36 [deg], phi=180 [deg]\n",
      "\n",
      "x [AU]\t\ty [km]\t\tz [earth-radii]\t\tspecies\t\ttime[sec]\tproximity\tintegration\n",
      "-------------------------------------------------------------------------------------------------------------------\n",
      "0.99994\t\t7.4514548e-13\t\t 1.313\t\tneutron\t\t425.9\t\tnear-earth\tsuccessful\n",
      "0.99994\t\t0.42389075\t\t 1.313\t\tproton\t\t441.4\t\tnear-earth\tsuccessful\n",
      "0.99994\t\t10.884959\t\t 1.311\t\tiron\t\t440.1\t\tnear-earth\tsuccessful\n",
      "0.99994\t\t38.499237\t\t 1.306\t\turanium\t\t435.6\t\tnear-earth\tsuccessful\n"
     ]
    }
   ],
   "source": [
    "energy=200e18\n",
    "\n",
    "neutron = File.select('.', energy_range=energy, radius_range=radius, theta_range=theta, phi_range=phi, Z_range=Z_neutron)[0]\n",
    "proton  = File.select('.', energy_range=energy, radius_range=radius, theta_range=theta, phi_range=phi, Z_range=Z_proton)[0]\n",
    "iron    = File.select('.', energy_range=energy, radius_range=radius, theta_range=theta, phi_range=phi, Z_range=Z_iron)[0]\n",
    "uranium = File.select('.', energy_range=energy, radius_range=radius, theta_range=theta, phi_range=phi, Z_range=Z_uranium)[0]\n",
    "\n",
    "print 'Energy={} [eV], radius={} [AU], theta={} [deg], phi={} [deg]'.format(energy, radius, theta, phi)\n",
    "print\n",
    "printResult(neutron, species='neutron', header=True)\n",
    "printResult(proton,  species='proton')\n",
    "printResult(iron,    species='iron')\n",
    "printResult(uranium, species='uranium')"
   ]
  },
  {
   "cell_type": "code",
   "execution_count": 278,
   "metadata": {
    "scrolled": true
   },
   "outputs": [
    {
     "name": "stdout",
     "output_type": "stream",
     "text": [
      "Energy=2e+19 [eV], radius=3 [AU], theta=36 [deg], phi=180 [deg]\n",
      "\n",
      "x [AU]\t\ty [km]\t\tz [earth-radii]\t\tspecies\t\ttime[sec]\tproximity\tintegration\n",
      "-------------------------------------------------------------------------------------------------------------------\n",
      "0.99994\t\t7.4514548e-13\t\t 1.313\t\tneutron\t\t441.5\t\tnear-earth\tsuccessful\n",
      "0.99994\t\t4.1945851\t\t 1.312\t\tproton\t\t436.1\t\tnear-earth\tsuccessful\n",
      "0.99994\t\t108.78332\t\t 1.294\t\tiron\t\t455.6\t\tnear-earth\tsuccessful\n",
      "0.99993\t\t384.86841\t\t 1.242\t\turanium\t\t441.3\t\tnear-earth\tsuccessful\n"
     ]
    }
   ],
   "source": [
    "energy=20e18\n",
    "\n",
    "neutron = File.select('.', energy_range=energy, radius_range=radius, theta_range=theta, phi_range=phi, Z_range=Z_neutron)[0]\n",
    "proton  = File.select('.', energy_range=energy, radius_range=radius, theta_range=theta, phi_range=phi, Z_range=Z_proton)[0]\n",
    "iron    = File.select('.', energy_range=energy, radius_range=radius, theta_range=theta, phi_range=phi, Z_range=Z_iron)[0]\n",
    "uranium = File.select('.', energy_range=energy, radius_range=radius, theta_range=theta, phi_range=phi, Z_range=Z_uranium)[0]\n",
    "\n",
    "print 'Energy={} [eV], radius={} [AU], theta={} [deg], phi={} [deg]'.format(energy, radius, theta, phi)\n",
    "print\n",
    "printResult(neutron, species='neutron', header=True)\n",
    "printResult(proton,  species='proton')\n",
    "printResult(iron,    species='iron')\n",
    "printResult(uranium, species='uranium')"
   ]
  },
  {
   "cell_type": "code",
   "execution_count": 279,
   "metadata": {},
   "outputs": [
    {
     "name": "stdout",
     "output_type": "stream",
     "text": [
      "Energy=2e+18 [eV], radius=3 [AU], theta=36 [deg], phi=180 [deg]\n",
      "\n",
      "x [AU]\t\ty [km]\t\tz [earth-radii]\t\tspecies\t\ttime[sec]\tproximity\tintegration\n",
      "-------------------------------------------------------------------------------------------------------------------\n",
      "0.99994\t\t7.4514548e-13\t\t 1.313\t\tneutron\t\t216.6\t\tnear-earth\tsuccessful\n",
      "0.99994\t\t41.839775\t\t 1.305\t\tproton\t\t216.4\t\tnear-earth\tsuccessful\n",
      "0.99993\t\t1087.7106\t\t 1.082\t\tiron\t\t222.1\t\tnear-earth\tsuccessful\n",
      "0.99992\t\t3849.5471\t\t0.3313\t\turanium\t\t218.8\t\tnear-earth\tsuccessful\n"
     ]
    }
   ],
   "source": [
    "energy=2e18\n",
    "\n",
    "neutron = File.select('.', energy_range=energy, radius_range=radius, theta_range=theta, phi_range=phi, Z_range=Z_neutron)[0]\n",
    "proton  = File.select('.', energy_range=energy, radius_range=radius, theta_range=theta, phi_range=phi, Z_range=Z_proton)[0]\n",
    "iron    = File.select('.', energy_range=energy, radius_range=radius, theta_range=theta, phi_range=phi, Z_range=Z_iron)[0]\n",
    "uranium = File.select('.', energy_range=energy, radius_range=radius, theta_range=theta, phi_range=phi, Z_range=Z_uranium)[0]\n",
    "\n",
    "print 'Energy={} [eV], radius={} [AU], theta={} [deg], phi={} [deg]'.format(energy, radius, theta, phi)\n",
    "print\n",
    "printResult(neutron, species='neutron', header=True)\n",
    "printResult(proton,  species='proton')\n",
    "printResult(iron,    species='iron')\n",
    "printResult(uranium, species='uranium')"
   ]
  },
  {
   "cell_type": "markdown",
   "metadata": {},
   "source": [
    "# Radius=3 AU, Theta=144 deg, Phi=90 deg"
   ]
  },
  {
   "cell_type": "code",
   "execution_count": 280,
   "metadata": {},
   "outputs": [],
   "source": [
    "radius=3\n",
    "theta=144\n",
    "phi=90"
   ]
  },
  {
   "cell_type": "code",
   "execution_count": 281,
   "metadata": {
    "scrolled": true
   },
   "outputs": [
    {
     "name": "stdout",
     "output_type": "stream",
     "text": [
      "Energy=2e+20 [eV], radius=3 [AU], theta=144 [deg], phi=90 [deg]\n",
      "\n",
      "x [AU]\t\ty [km]\t\tz [earth-radii]\t\tspecies\t\ttime[sec]\tproximity\tintegration\n",
      "-------------------------------------------------------------------------------------------------------------------\n",
      "0.99997\t\t7084.3055\t\t-1.529\t\tneutron\t\t370.2\t\tnear-earth\tsuccessful\n",
      "0.99997\t\t7086.9046\t\t-1.529\t\tproton\t\t377.4\t\tnear-earth\tsuccessful\n",
      "0.99997\t\t7098.3614\t\t-1.527\t\tiron\t\t376.1\t\tnear-earth\tsuccessful\n",
      "0.99997\t\t7108.3144\t\t-1.526\t\turanium\t\t376.2\t\tnear-earth\tsuccessful\n"
     ]
    }
   ],
   "source": [
    "energy=200e18\n",
    "\n",
    "neutron = File.select('.', energy_range=energy, radius_range=radius, theta_range=theta, phi_range=phi, Z_range=Z_neutron)[0]\n",
    "proton  = File.select('.', energy_range=energy, radius_range=radius, theta_range=theta, phi_range=phi, Z_range=Z_proton)[0]\n",
    "iron    = File.select('.', energy_range=energy, radius_range=radius, theta_range=theta, phi_range=phi, Z_range=Z_iron)[0]\n",
    "uranium = File.select('.', energy_range=energy, radius_range=radius, theta_range=theta, phi_range=phi, Z_range=Z_uranium)[0]\n",
    "\n",
    "print 'Energy={} [eV], radius={} [AU], theta={} [deg], phi={} [deg]'.format(energy, radius, theta, phi)\n",
    "print\n",
    "printResult(neutron, species='neutron', header=True)\n",
    "printResult(proton,  species='proton')\n",
    "printResult(iron,    species='iron')\n",
    "printResult(uranium, species='uranium')"
   ]
  },
  {
   "cell_type": "code",
   "execution_count": 282,
   "metadata": {
    "scrolled": true
   },
   "outputs": [
    {
     "name": "stdout",
     "output_type": "stream",
     "text": [
      "Energy=2e+19 [eV], radius=3 [AU], theta=144 [deg], phi=90 [deg]\n",
      "\n",
      "x [AU]\t\ty [km]\t\tz [earth-radii]\t\tspecies\t\ttime[sec]\tproximity\tintegration\n",
      "-------------------------------------------------------------------------------------------------------------------\n",
      "0.99997\t\t7084.3055\t\t-1.529\t\tneutron\t\t375.1\t\tnear-earth\tsuccessful\n",
      "0.99997\t\t7087.8104\t\t-1.528\t\tproton\t\t380.9\t\tnear-earth\tsuccessful\n",
      "0.99997\t\t7122.1716\t\t -1.52\t\tiron\t\t385.7\t\tnear-earth\tsuccessful\n",
      "0.99997\t\t7662.6527\t\t-1.477\t\turanium\t\t385.0\t\tnear-earth\tsuccessful\n"
     ]
    }
   ],
   "source": [
    "energy=20e18\n",
    "\n",
    "neutron = File.select('.', energy_range=energy, radius_range=radius, theta_range=theta, phi_range=phi, Z_range=Z_neutron)[0]\n",
    "proton  = File.select('.', energy_range=energy, radius_range=radius, theta_range=theta, phi_range=phi, Z_range=Z_proton)[0]\n",
    "iron    = File.select('.', energy_range=energy, radius_range=radius, theta_range=theta, phi_range=phi, Z_range=Z_iron)[0]\n",
    "uranium = File.select('.', energy_range=energy, radius_range=radius, theta_range=theta, phi_range=phi, Z_range=Z_uranium)[0]\n",
    "\n",
    "print 'Energy={} [eV], radius={} [AU], theta={} [deg], phi={} [deg]'.format(energy, radius, theta, phi)\n",
    "print\n",
    "printResult(neutron, species='neutron', header=True)\n",
    "printResult(proton,  species='proton')\n",
    "printResult(iron,    species='iron')\n",
    "printResult(uranium, species='uranium')"
   ]
  },
  {
   "cell_type": "code",
   "execution_count": 283,
   "metadata": {
    "scrolled": true
   },
   "outputs": [
    {
     "name": "stdout",
     "output_type": "stream",
     "text": [
      "Energy=2e+18 [eV], radius=3 [AU], theta=144 [deg], phi=90 [deg]\n",
      "\n",
      "x [AU]\t\ty [km]\t\tz [earth-radii]\t\tspecies\t\ttime[sec]\tproximity\tintegration\n",
      "-------------------------------------------------------------------------------------------------------------------\n",
      "0.99997\t\t7084.3055\t\t-1.529\t\tneutron\t\t367.1\t\tnear-earth\tsuccessful\n",
      "0.99997\t\t7110.4299\t\t-1.525\t\tproton\t\t412.2\t\tnear-earth\tsuccessful\n",
      "0.99998\t\t8561.749\t\t-1.376\t\tiron\t\t360.2\t\tnear-earth\tsuccessful\n",
      "0.99999\t\t11212.698\t\t-0.8878\t\turanium\t\t376.5\t\tnear-earth\tsuccessful\n"
     ]
    }
   ],
   "source": [
    "energy=2e18\n",
    "\n",
    "neutron = File.select('.', energy_range=energy, radius_range=radius, theta_range=theta, phi_range=phi, Z_range=Z_neutron)[0]\n",
    "proton  = File.select('.', energy_range=energy, radius_range=radius, theta_range=theta, phi_range=phi, Z_range=Z_proton)[0]\n",
    "iron    = File.select('.', energy_range=energy, radius_range=radius, theta_range=theta, phi_range=phi, Z_range=Z_iron)[0]\n",
    "uranium = File.select('.', energy_range=energy, radius_range=radius, theta_range=theta, phi_range=phi, Z_range=Z_uranium)[0]\n",
    "\n",
    "print 'Energy={} [eV], radius={} [AU], theta={} [deg], phi={} [deg]'.format(energy, radius, theta, phi)\n",
    "print\n",
    "printResult(neutron, species='neutron', header=True)\n",
    "printResult(proton,  species='proton')\n",
    "printResult(iron,    species='iron')\n",
    "printResult(uranium, species='uranium')"
   ]
  },
  {
   "cell_type": "markdown",
   "metadata": {},
   "source": [
    "# Radius=3 AU, Theta=144 deg, Phi=270 deg"
   ]
  },
  {
   "cell_type": "code",
   "execution_count": 284,
   "metadata": {},
   "outputs": [],
   "source": [
    "radius=3\n",
    "theta=144\n",
    "phi=270"
   ]
  },
  {
   "cell_type": "code",
   "execution_count": 285,
   "metadata": {
    "scrolled": true
   },
   "outputs": [
    {
     "name": "stdout",
     "output_type": "stream",
     "text": [
      "Energy=2e+20 [eV], radius=3 [AU], theta=144 [deg], phi=270 [deg]\n",
      "\n",
      "x [AU]\t\ty [km]\t\tz [earth-radii]\t\tspecies\t\ttime[sec]\tproximity\tintegration\n",
      "-------------------------------------------------------------------------------------------------------------------\n",
      "0.99997\t\t-7084.3055\t\t-1.529\t\tneutron\t\t204.1\t\tnear-earth\tsuccessful\n",
      "0.99997\t\t-7085.7177\t\t-1.529\t\tproton\t\t371.3\t\tnear-earth\tsuccessful\n",
      "0.99997\t\t-7095.5593\t\t-1.527\t\tiron\t\t379.7\t\tnear-earth\tsuccessful\n",
      "0.99997\t\t-7111.8869\t\t-1.527\t\turanium\t\t373.9\t\tnear-earth\tsuccessful\n"
     ]
    }
   ],
   "source": [
    "energy=200e18\n",
    "\n",
    "neutron = File.select('.', energy_range=energy, radius_range=radius, theta_range=theta, phi_range=phi, Z_range=Z_neutron)[0]\n",
    "proton  = File.select('.', energy_range=energy, radius_range=radius, theta_range=theta, phi_range=phi, Z_range=Z_proton)[0]\n",
    "iron    = File.select('.', energy_range=energy, radius_range=radius, theta_range=theta, phi_range=phi, Z_range=Z_iron)[0]\n",
    "uranium = File.select('.', energy_range=energy, radius_range=radius, theta_range=theta, phi_range=phi, Z_range=Z_uranium)[0]\n",
    "\n",
    "print 'Energy={} [eV], radius={} [AU], theta={} [deg], phi={} [deg]'.format(energy, radius, theta, phi)\n",
    "print\n",
    "printResult(neutron, species='neutron', header=True)\n",
    "printResult(proton,  species='proton')\n",
    "printResult(iron,    species='iron')\n",
    "printResult(uranium, species='uranium')"
   ]
  },
  {
   "cell_type": "code",
   "execution_count": 286,
   "metadata": {
    "scrolled": true
   },
   "outputs": [
    {
     "name": "stdout",
     "output_type": "stream",
     "text": [
      "Energy=2e+19 [eV], radius=3 [AU], theta=144 [deg], phi=270 [deg]\n",
      "\n",
      "x [AU]\t\ty [km]\t\tz [earth-radii]\t\tspecies\t\ttime[sec]\tproximity\tintegration\n",
      "-------------------------------------------------------------------------------------------------------------------\n",
      "0.99997\t\t-7084.3055\t\t-1.529\t\tneutron\t\t374.8\t\tnear-earth\tsuccessful\n",
      "0.99997\t\t-7086.5629\t\t-1.529\t\tproton\t\t398.8\t\tnear-earth\tsuccessful\n",
      "0.99997\t\t-7222.7417\t\t-1.511\t\tiron\t\t387.5\t\tnear-earth\tsuccessful\n",
      "0.99997\t\t-7331.2539\t\t-1.511\t\turanium\t\t390.6\t\tnear-earth\tsuccessful\n"
     ]
    }
   ],
   "source": [
    "energy=20e18\n",
    "\n",
    "neutron = File.select('.', energy_range=energy, radius_range=radius, theta_range=theta, phi_range=phi, Z_range=Z_neutron)[0]\n",
    "proton  = File.select('.', energy_range=energy, radius_range=radius, theta_range=theta, phi_range=phi, Z_range=Z_proton)[0]\n",
    "iron    = File.select('.', energy_range=energy, radius_range=radius, theta_range=theta, phi_range=phi, Z_range=Z_iron)[0]\n",
    "uranium = File.select('.', energy_range=energy, radius_range=radius, theta_range=theta, phi_range=phi, Z_range=Z_uranium)[0]\n",
    "\n",
    "print 'Energy={} [eV], radius={} [AU], theta={} [deg], phi={} [deg]'.format(energy, radius, theta, phi)\n",
    "print\n",
    "printResult(neutron, species='neutron', header=True)\n",
    "printResult(proton,  species='proton')\n",
    "printResult(iron,    species='iron')\n",
    "printResult(uranium, species='uranium')"
   ]
  },
  {
   "cell_type": "code",
   "execution_count": 287,
   "metadata": {
    "scrolled": false
   },
   "outputs": [
    {
     "name": "stdout",
     "output_type": "stream",
     "text": [
      "Energy=2e+18 [eV], radius=3 [AU], theta=144 [deg], phi=270 [deg]\n",
      "\n",
      "x [AU]\t\ty [km]\t\tz [earth-radii]\t\tspecies\t\ttime[sec]\tproximity\tintegration\n",
      "-------------------------------------------------------------------------------------------------------------------\n",
      "0.99997\t\t-7084.3055\t\t-1.529\t\tneutron\t\t377.8\t\tnear-earth\tsuccessful\n",
      "0.99997\t\t-7114.154\t\t-1.527\t\tproton\t\t358.1\t\tnear-earth\tsuccessful\n",
      "0.99998\t\t-7482.3956\t\t-1.512\t\tiron\t\t369.7\t\tnear-earth\tsuccessful\n",
      "0.99998\t\t-8548.9083\t\t-1.426\t\turanium\t\t374.0\t\tnear-earth\tsuccessful\n"
     ]
    }
   ],
   "source": [
    "energy=2e18\n",
    "\n",
    "neutron = File.select('.', energy_range=energy, radius_range=radius, theta_range=theta, phi_range=phi, Z_range=Z_neutron)[0]\n",
    "proton  = File.select('.', energy_range=energy, radius_range=radius, theta_range=theta, phi_range=phi, Z_range=Z_proton)[0]\n",
    "iron    = File.select('.', energy_range=energy, radius_range=radius, theta_range=theta, phi_range=phi, Z_range=Z_iron)[0]\n",
    "uranium = File.select('.', energy_range=energy, radius_range=radius, theta_range=theta, phi_range=phi, Z_range=Z_uranium)[0]\n",
    "\n",
    "print 'Energy={} [eV], radius={} [AU], theta={} [deg], phi={} [deg]'.format(energy, radius, theta, phi)\n",
    "print\n",
    "printResult(neutron, species='neutron', header=True)\n",
    "printResult(proton,  species='proton')\n",
    "printResult(iron,    species='iron')\n",
    "printResult(uranium, species='uranium')"
   ]
  },
  {
   "cell_type": "markdown",
   "metadata": {},
   "source": [
    "# Radius=5 AU, Theta=72 deg, Phi=180 deg"
   ]
  },
  {
   "cell_type": "code",
   "execution_count": 290,
   "metadata": {},
   "outputs": [],
   "source": [
    "radius=5\n",
    "theta=72\n",
    "phi=180"
   ]
  },
  {
   "cell_type": "code",
   "execution_count": 291,
   "metadata": {
    "scrolled": true
   },
   "outputs": [
    {
     "ename": "IndexError",
     "evalue": "list index out of range",
     "output_type": "error",
     "traceback": [
      "\u001b[1;31m---------------------------------------------------------------------------\u001b[0m",
      "\u001b[1;31mIndexError\u001b[0m                                Traceback (most recent call last)",
      "\u001b[1;32m<ipython-input-291-96688f128514>\u001b[0m in \u001b[0;36m<module>\u001b[1;34m()\u001b[0m\n\u001b[0;32m      1\u001b[0m \u001b[0menergy\u001b[0m\u001b[1;33m=\u001b[0m\u001b[1;36m200e18\u001b[0m\u001b[1;33m\u001b[0m\u001b[0m\n\u001b[0;32m      2\u001b[0m \u001b[1;33m\u001b[0m\u001b[0m\n\u001b[1;32m----> 3\u001b[1;33m \u001b[0mneutron\u001b[0m \u001b[1;33m=\u001b[0m \u001b[0mFile\u001b[0m\u001b[1;33m.\u001b[0m\u001b[0mselect\u001b[0m\u001b[1;33m(\u001b[0m\u001b[1;34m'.'\u001b[0m\u001b[1;33m,\u001b[0m \u001b[0menergy_range\u001b[0m\u001b[1;33m=\u001b[0m\u001b[0menergy\u001b[0m\u001b[1;33m,\u001b[0m \u001b[0mradius_range\u001b[0m\u001b[1;33m=\u001b[0m\u001b[0mradius\u001b[0m\u001b[1;33m,\u001b[0m \u001b[0mtheta_range\u001b[0m\u001b[1;33m=\u001b[0m\u001b[0mtheta\u001b[0m\u001b[1;33m,\u001b[0m \u001b[0mphi_range\u001b[0m\u001b[1;33m=\u001b[0m\u001b[0mphi\u001b[0m\u001b[1;33m,\u001b[0m \u001b[0mZ_range\u001b[0m\u001b[1;33m=\u001b[0m\u001b[0mZ_neutron\u001b[0m\u001b[1;33m)\u001b[0m\u001b[1;33m[\u001b[0m\u001b[1;36m0\u001b[0m\u001b[1;33m]\u001b[0m\u001b[1;33m\u001b[0m\u001b[0m\n\u001b[0m\u001b[0;32m      4\u001b[0m \u001b[0mproton\u001b[0m  \u001b[1;33m=\u001b[0m \u001b[0mFile\u001b[0m\u001b[1;33m.\u001b[0m\u001b[0mselect\u001b[0m\u001b[1;33m(\u001b[0m\u001b[1;34m'.'\u001b[0m\u001b[1;33m,\u001b[0m \u001b[0menergy_range\u001b[0m\u001b[1;33m=\u001b[0m\u001b[0menergy\u001b[0m\u001b[1;33m,\u001b[0m \u001b[0mradius_range\u001b[0m\u001b[1;33m=\u001b[0m\u001b[0mradius\u001b[0m\u001b[1;33m,\u001b[0m \u001b[0mtheta_range\u001b[0m\u001b[1;33m=\u001b[0m\u001b[0mtheta\u001b[0m\u001b[1;33m,\u001b[0m \u001b[0mphi_range\u001b[0m\u001b[1;33m=\u001b[0m\u001b[0mphi\u001b[0m\u001b[1;33m,\u001b[0m \u001b[0mZ_range\u001b[0m\u001b[1;33m=\u001b[0m\u001b[0mZ_proton\u001b[0m\u001b[1;33m)\u001b[0m\u001b[1;33m[\u001b[0m\u001b[1;36m0\u001b[0m\u001b[1;33m]\u001b[0m\u001b[1;33m\u001b[0m\u001b[0m\n\u001b[0;32m      5\u001b[0m \u001b[0miron\u001b[0m    \u001b[1;33m=\u001b[0m \u001b[0mFile\u001b[0m\u001b[1;33m.\u001b[0m\u001b[0mselect\u001b[0m\u001b[1;33m(\u001b[0m\u001b[1;34m'.'\u001b[0m\u001b[1;33m,\u001b[0m \u001b[0menergy_range\u001b[0m\u001b[1;33m=\u001b[0m\u001b[0menergy\u001b[0m\u001b[1;33m,\u001b[0m \u001b[0mradius_range\u001b[0m\u001b[1;33m=\u001b[0m\u001b[0mradius\u001b[0m\u001b[1;33m,\u001b[0m \u001b[0mtheta_range\u001b[0m\u001b[1;33m=\u001b[0m\u001b[0mtheta\u001b[0m\u001b[1;33m,\u001b[0m \u001b[0mphi_range\u001b[0m\u001b[1;33m=\u001b[0m\u001b[0mphi\u001b[0m\u001b[1;33m,\u001b[0m \u001b[0mZ_range\u001b[0m\u001b[1;33m=\u001b[0m\u001b[0mZ_iron\u001b[0m\u001b[1;33m)\u001b[0m\u001b[1;33m[\u001b[0m\u001b[1;36m0\u001b[0m\u001b[1;33m]\u001b[0m\u001b[1;33m\u001b[0m\u001b[0m\n",
      "\u001b[1;31mIndexError\u001b[0m: list index out of range"
     ]
    }
   ],
   "source": [
    "energy=200e18\n",
    "\n",
    "neutron = File.select('.', energy_range=energy, radius_range=radius, theta_range=theta, phi_range=phi, Z_range=Z_neutron)[0]\n",
    "proton  = File.select('.', energy_range=energy, radius_range=radius, theta_range=theta, phi_range=phi, Z_range=Z_proton)[0]\n",
    "iron    = File.select('.', energy_range=energy, radius_range=radius, theta_range=theta, phi_range=phi, Z_range=Z_iron)[0]\n",
    "uranium = File.select('.', energy_range=energy, radius_range=radius, theta_range=theta, phi_range=phi, Z_range=Z_uranium)[0]\n",
    "\n",
    "print 'Energy={} [eV], radius={} [AU], theta={} [deg], phi={} [deg]'.format(energy, radius, theta, phi)\n",
    "print\n",
    "printResult(neutron, species='neutron', header=True)\n",
    "printResult(proton,  species='proton')\n",
    "printResult(iron,    species='iron')\n",
    "printResult(uranium, species='uranium')"
   ]
  },
  {
   "cell_type": "code",
   "execution_count": 292,
   "metadata": {
    "scrolled": true
   },
   "outputs": [
    {
     "name": "stdout",
     "output_type": "stream",
     "text": [
      "Energy=2e+19 [eV], radius=5 [AU], theta=72 [deg], phi=180 [deg]\n",
      "\n",
      "x [AU]\t\ty [km]\t\tz [earth-radii]\t\tspecies\t\ttime[sec]\tproximity\tintegration\n",
      "-------------------------------------------------------------------------------------------------------------------\n",
      "0.99992\t\t1.2420486e-12\t\t0.5167\t\tneutron\t\t363.1\t\tnear-earth\tsuccessful\n",
      "0.99992\t\t17.890173\t\t0.5153\t\tproton\t\t355.0\t\tnear-earth\tsuccessful\n",
      "0.99992\t\t464.67589\t\t0.4804\t\tiron\t\t345.1\t\tnear-earth\tsuccessful\n",
      "0.99992\t\t1644.2418\t\t0.3845\t\turanium\t\t362.8\t\tnear-earth\tsuccessful\n"
     ]
    }
   ],
   "source": [
    "energy=20e18\n",
    "\n",
    "neutron = File.select('.', energy_range=energy, radius_range=radius, theta_range=theta, phi_range=phi, Z_range=Z_neutron)[0]\n",
    "proton  = File.select('.', energy_range=energy, radius_range=radius, theta_range=theta, phi_range=phi, Z_range=Z_proton)[0]\n",
    "iron    = File.select('.', energy_range=energy, radius_range=radius, theta_range=theta, phi_range=phi, Z_range=Z_iron)[0]\n",
    "uranium = File.select('.', energy_range=energy, radius_range=radius, theta_range=theta, phi_range=phi, Z_range=Z_uranium)[0]\n",
    "\n",
    "print 'Energy={} [eV], radius={} [AU], theta={} [deg], phi={} [deg]'.format(energy, radius, theta, phi)\n",
    "print\n",
    "printResult(neutron, species='neutron', header=True)\n",
    "printResult(proton,  species='proton')\n",
    "printResult(iron,    species='iron')\n",
    "printResult(uranium, species='uranium')"
   ]
  },
  {
   "cell_type": "code",
   "execution_count": 293,
   "metadata": {
    "scrolled": false
   },
   "outputs": [
    {
     "ename": "IndexError",
     "evalue": "list index out of range",
     "output_type": "error",
     "traceback": [
      "\u001b[1;31m---------------------------------------------------------------------------\u001b[0m",
      "\u001b[1;31mIndexError\u001b[0m                                Traceback (most recent call last)",
      "\u001b[1;32m<ipython-input-293-786ca3deb493>\u001b[0m in \u001b[0;36m<module>\u001b[1;34m()\u001b[0m\n\u001b[0;32m      4\u001b[0m \u001b[0mproton\u001b[0m  \u001b[1;33m=\u001b[0m \u001b[0mFile\u001b[0m\u001b[1;33m.\u001b[0m\u001b[0mselect\u001b[0m\u001b[1;33m(\u001b[0m\u001b[1;34m'.'\u001b[0m\u001b[1;33m,\u001b[0m \u001b[0menergy_range\u001b[0m\u001b[1;33m=\u001b[0m\u001b[0menergy\u001b[0m\u001b[1;33m,\u001b[0m \u001b[0mradius_range\u001b[0m\u001b[1;33m=\u001b[0m\u001b[0mradius\u001b[0m\u001b[1;33m,\u001b[0m \u001b[0mtheta_range\u001b[0m\u001b[1;33m=\u001b[0m\u001b[0mtheta\u001b[0m\u001b[1;33m,\u001b[0m \u001b[0mphi_range\u001b[0m\u001b[1;33m=\u001b[0m\u001b[0mphi\u001b[0m\u001b[1;33m,\u001b[0m \u001b[0mZ_range\u001b[0m\u001b[1;33m=\u001b[0m\u001b[0mZ_proton\u001b[0m\u001b[1;33m)\u001b[0m\u001b[1;33m[\u001b[0m\u001b[1;36m0\u001b[0m\u001b[1;33m]\u001b[0m\u001b[1;33m\u001b[0m\u001b[0m\n\u001b[0;32m      5\u001b[0m \u001b[0miron\u001b[0m    \u001b[1;33m=\u001b[0m \u001b[0mFile\u001b[0m\u001b[1;33m.\u001b[0m\u001b[0mselect\u001b[0m\u001b[1;33m(\u001b[0m\u001b[1;34m'.'\u001b[0m\u001b[1;33m,\u001b[0m \u001b[0menergy_range\u001b[0m\u001b[1;33m=\u001b[0m\u001b[0menergy\u001b[0m\u001b[1;33m,\u001b[0m \u001b[0mradius_range\u001b[0m\u001b[1;33m=\u001b[0m\u001b[0mradius\u001b[0m\u001b[1;33m,\u001b[0m \u001b[0mtheta_range\u001b[0m\u001b[1;33m=\u001b[0m\u001b[0mtheta\u001b[0m\u001b[1;33m,\u001b[0m \u001b[0mphi_range\u001b[0m\u001b[1;33m=\u001b[0m\u001b[0mphi\u001b[0m\u001b[1;33m,\u001b[0m \u001b[0mZ_range\u001b[0m\u001b[1;33m=\u001b[0m\u001b[0mZ_iron\u001b[0m\u001b[1;33m)\u001b[0m\u001b[1;33m[\u001b[0m\u001b[1;36m0\u001b[0m\u001b[1;33m]\u001b[0m\u001b[1;33m\u001b[0m\u001b[0m\n\u001b[1;32m----> 6\u001b[1;33m \u001b[0muranium\u001b[0m \u001b[1;33m=\u001b[0m \u001b[0mFile\u001b[0m\u001b[1;33m.\u001b[0m\u001b[0mselect\u001b[0m\u001b[1;33m(\u001b[0m\u001b[1;34m'.'\u001b[0m\u001b[1;33m,\u001b[0m \u001b[0menergy_range\u001b[0m\u001b[1;33m=\u001b[0m\u001b[0menergy\u001b[0m\u001b[1;33m,\u001b[0m \u001b[0mradius_range\u001b[0m\u001b[1;33m=\u001b[0m\u001b[0mradius\u001b[0m\u001b[1;33m,\u001b[0m \u001b[0mtheta_range\u001b[0m\u001b[1;33m=\u001b[0m\u001b[0mtheta\u001b[0m\u001b[1;33m,\u001b[0m \u001b[0mphi_range\u001b[0m\u001b[1;33m=\u001b[0m\u001b[0mphi\u001b[0m\u001b[1;33m,\u001b[0m \u001b[0mZ_range\u001b[0m\u001b[1;33m=\u001b[0m\u001b[0mZ_uranium\u001b[0m\u001b[1;33m)\u001b[0m\u001b[1;33m[\u001b[0m\u001b[1;36m0\u001b[0m\u001b[1;33m]\u001b[0m\u001b[1;33m\u001b[0m\u001b[0m\n\u001b[0m\u001b[0;32m      7\u001b[0m \u001b[1;33m\u001b[0m\u001b[0m\n\u001b[0;32m      8\u001b[0m \u001b[1;32mprint\u001b[0m \u001b[1;34m'Energy={} [eV], radius={} [AU], theta={} [deg], phi={} [deg]'\u001b[0m\u001b[1;33m.\u001b[0m\u001b[0mformat\u001b[0m\u001b[1;33m(\u001b[0m\u001b[0menergy\u001b[0m\u001b[1;33m,\u001b[0m \u001b[0mradius\u001b[0m\u001b[1;33m,\u001b[0m \u001b[0mtheta\u001b[0m\u001b[1;33m,\u001b[0m \u001b[0mphi\u001b[0m\u001b[1;33m)\u001b[0m\u001b[1;33m\u001b[0m\u001b[0m\n",
      "\u001b[1;31mIndexError\u001b[0m: list index out of range"
     ]
    }
   ],
   "source": [
    "energy=2e18\n",
    "\n",
    "neutron = File.select('.', energy_range=energy, radius_range=radius, theta_range=theta, phi_range=phi, Z_range=Z_neutron)[0]\n",
    "proton  = File.select('.', energy_range=energy, radius_range=radius, theta_range=theta, phi_range=phi, Z_range=Z_proton)[0]\n",
    "iron    = File.select('.', energy_range=energy, radius_range=radius, theta_range=theta, phi_range=phi, Z_range=Z_iron)[0]\n",
    "uranium = File.select('.', energy_range=energy, radius_range=radius, theta_range=theta, phi_range=phi, Z_range=Z_uranium)[0]\n",
    "\n",
    "print 'Energy={} [eV], radius={} [AU], theta={} [deg], phi={} [deg]'.format(energy, radius, theta, phi)\n",
    "print\n",
    "printResult(neutron, species='neutron', header=True)\n",
    "printResult(proton,  species='proton')\n",
    "printResult(iron,    species='iron')\n",
    "printResult(uranium, species='uranium')"
   ]
  },
  {
   "cell_type": "code",
   "execution_count": null,
   "metadata": {},
   "outputs": [],
   "source": []
  }
 ],
 "metadata": {
  "kernelspec": {
   "display_name": "Python 2",
   "language": "python",
   "name": "python2"
  },
  "language_info": {
   "codemirror_mode": {
    "name": "ipython",
    "version": 2
   },
   "file_extension": ".py",
   "mimetype": "text/x-python",
   "name": "python",
   "nbconvert_exporter": "python",
   "pygments_lexer": "ipython2",
   "version": "2.7.15"
  }
 },
 "nbformat": 4,
 "nbformat_minor": 2
}
